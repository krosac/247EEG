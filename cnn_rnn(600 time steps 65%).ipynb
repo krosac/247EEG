{
  "nbformat": 4,
  "nbformat_minor": 0,
  "metadata": {
    "kernelspec": {
      "name": "python3",
      "display_name": "Python 3"
    },
    "language_info": {
      "codemirror_mode": {
        "name": "ipython",
        "version": 3
      },
      "file_extension": ".py",
      "mimetype": "text/x-python",
      "name": "python",
      "nbconvert_exporter": "python",
      "pygments_lexer": "ipython3",
      "version": "3.6.9"
    },
    "colab": {
      "name": "cnn_rnn.ipynb",
      "provenance": [],
      "collapsed_sections": [],
      "machine_shape": "hm"
    },
    "accelerator": "GPU"
  },
  "cells": [
    {
      "cell_type": "code",
      "metadata": {
        "id": "DiGI0306sEJX",
        "colab_type": "code",
        "outputId": "26d914c4-eca1-4ec4-eac0-5d658da58942",
        "colab": {
          "base_uri": "https://localhost:8080/",
          "height": 52
        }
      },
      "source": [
        "from google.colab import drive\n",
        "drive.mount('/content/drive')\n",
        "%cd /content/drive/My Drive/ECE 247/project/project"
      ],
      "execution_count": 1,
      "outputs": [
        {
          "output_type": "stream",
          "text": [
            "Drive already mounted at /content/drive; to attempt to forcibly remount, call drive.mount(\"/content/drive\", force_remount=True).\n",
            "/content/drive/My Drive/ECE 247/project/project\n"
          ],
          "name": "stdout"
        }
      ]
    },
    {
      "cell_type": "code",
      "metadata": {
        "id": "dwjCfkAvljYG",
        "colab_type": "code",
        "colab": {}
      },
      "source": [
        "import numpy as np\n",
        "import matplotlib.pyplot as plt\n",
        "# for creating validation set\n",
        "from sklearn.model_selection import train_test_split\n",
        "# for evaluating the model\n",
        "from sklearn.metrics import accuracy_score\n",
        "from tqdm import tqdm\n",
        "import random\n",
        "\n",
        "import torch\n",
        "import torch.nn as nn\n",
        "import torch.nn.functional as F\n",
        "from torch.autograd import Variable\n",
        "from torch.utils.data import TensorDataset, DataLoader\n",
        "from torch.nn import Linear, ReLU, CrossEntropyLoss, Sequential, Conv2d, MaxPool2d, Module, Softmax, BatchNorm2d, Dropout, ELU\n",
        "from torch.optim import Adam, SGD"
      ],
      "execution_count": 0,
      "outputs": []
    },
    {
      "cell_type": "code",
      "metadata": {
        "id": "_s3z8cH-p4Do",
        "colab_type": "code",
        "colab": {}
      },
      "source": [
        "# If we have a GPU available, we'll set our device to GPU. We'll use this device variable later in our code.\n",
        "if torch.cuda.is_available():\n",
        "    device = torch.device(\"cuda\")\n",
        "else:\n",
        "    device = torch.device(\"cpu\")"
      ],
      "execution_count": 0,
      "outputs": []
    },
    {
      "cell_type": "code",
      "metadata": {
        "id": "aZaOGTyLjgRl",
        "colab_type": "code",
        "outputId": "f4dec5ad-3b41-453d-b01a-97acba7d5c16",
        "colab": {
          "base_uri": "https://localhost:8080/",
          "height": 34
        }
      },
      "source": [
        "device"
      ],
      "execution_count": 4,
      "outputs": [
        {
          "output_type": "execute_result",
          "data": {
            "text/plain": [
              "device(type='cuda')"
            ]
          },
          "metadata": {
            "tags": []
          },
          "execution_count": 4
        }
      ]
    },
    {
      "cell_type": "code",
      "metadata": {
        "id": "ZzjOal5dljYM",
        "colab_type": "code",
        "colab": {}
      },
      "source": [
        "X_test = np.load(\"X_test.npy\")\n",
        "y_test = np.load(\"y_test.npy\")\n",
        "person_train_valid = np.load(\"person_train_valid.npy\")\n",
        "X_train_valid = np.load(\"X_train_valid.npy\")\n",
        "y_train_valid = np.load(\"y_train_valid.npy\")\n",
        "person_test = np.load(\"person_test.npy\")"
      ],
      "execution_count": 0,
      "outputs": []
    },
    {
      "cell_type": "code",
      "metadata": {
        "id": "8pNlBDcfljYP",
        "colab_type": "code",
        "outputId": "d5be71cb-5c4d-4073-9c82-a945c95f27ca",
        "colab": {
          "base_uri": "https://localhost:8080/",
          "height": 123
        }
      },
      "source": [
        "print ('Training/Valid data shape: {}'.format(X_train_valid.shape))\n",
        "print ('Test data shape: {}'.format(X_test.shape))\n",
        "print ('Training/Valid target shape: {}'.format(y_train_valid.shape))\n",
        "print ('Test target shape: {}'.format(y_test.shape))\n",
        "print ('Person train/valid shape: {}'.format(person_train_valid.shape))\n",
        "print ('Person test shape: {}'.format(person_test.shape))"
      ],
      "execution_count": 6,
      "outputs": [
        {
          "output_type": "stream",
          "text": [
            "Training/Valid data shape: (2115, 22, 1000)\n",
            "Test data shape: (443, 22, 1000)\n",
            "Training/Valid target shape: (2115,)\n",
            "Test target shape: (443,)\n",
            "Person train/valid shape: (2115, 1)\n",
            "Person test shape: (443, 1)\n"
          ],
          "name": "stdout"
        }
      ]
    },
    {
      "cell_type": "code",
      "metadata": {
        "id": "f1OTW12fljYT",
        "colab_type": "code",
        "outputId": "497a2073-27fb-47e8-a2db-39fbdac862d4",
        "colab": {
          "base_uri": "https://localhost:8080/",
          "height": 34
        }
      },
      "source": [
        "# create labels \n",
        "y_train_valid = y_train_valid - 769\n",
        "y_test = y_test -769\n",
        "\n",
        "person_train_valid = person_train_valid.squeeze()\n",
        "\n",
        "\n",
        "# split training and validation\n",
        "X_train, X_val, y_train, y_val, person_train, person_val = train_test_split(X_train_valid, y_train_valid, person_train_valid, test_size = 0.1)\n",
        "data = []\n",
        "(X_train.shape, y_train.shape, person_train.shape), (X_val.shape, y_val.shape, person_val.shape)"
      ],
      "execution_count": 7,
      "outputs": [
        {
          "output_type": "execute_result",
          "data": {
            "text/plain": [
              "(((1903, 22, 1000), (1903,), (1903,)), ((212, 22, 1000), (212,), (212,)))"
            ]
          },
          "metadata": {
            "tags": []
          },
          "execution_count": 7
        }
      ]
    },
    {
      "cell_type": "code",
      "metadata": {
        "id": "8LyXXCbBDuhW",
        "colab_type": "code",
        "colab": {}
      },
      "source": [
        "\n",
        "def datatime(X,X_test,sub_idx=None, time_period=500):\n",
        "    # different period of time\n",
        "    X_train_valid_time = X[:, :, :time_period]\n",
        "    X_test_time = X_test[:, :, :time_period]\n",
        "    return X_train_valid_time,X_test_time"
      ],
      "execution_count": 0,
      "outputs": []
    },
    {
      "cell_type": "code",
      "metadata": {
        "id": "TgNpsbBkljYX",
        "colab_type": "code",
        "outputId": "9badad21-827f-41e0-b22f-122269c424c9",
        "colab": {
          "base_uri": "https://localhost:8080/",
          "height": 52
        }
      },
      "source": [
        "# transform to torch tensor\n",
        "X_train_cur, X_val_cur= datatime(X_train, X_val,time_period=600)\n",
        "X_train_cur1 = torch.from_numpy(X_train_cur)\n",
        "y_train = torch.from_numpy(y_train)\n",
        "\n",
        "X_val_cur1 = torch.from_numpy(X_val_cur)\n",
        "y_val = torch.from_numpy(y_val)\n",
        "\n",
        "_, X_test_cur= datatime(X_train, X_test,time_period=600)\n",
        "X_test_cur1 = torch.from_numpy(X_test_cur)\n",
        "y_test = torch.from_numpy(y_test)\n",
        "print(X_test_cur1.shape)\n",
        "print(y_test.shape)"
      ],
      "execution_count": 9,
      "outputs": [
        {
          "output_type": "stream",
          "text": [
            "torch.Size([443, 22, 600])\n",
            "torch.Size([443])\n"
          ],
          "name": "stdout"
        }
      ]
    },
    {
      "cell_type": "code",
      "metadata": {
        "id": "taL1lpmWQQdc",
        "colab_type": "code",
        "colab": {}
      },
      "source": [
        ""
      ],
      "execution_count": 0,
      "outputs": []
    },
    {
      "cell_type": "code",
      "metadata": {
        "colab_type": "code",
        "id": "Qd5wT3pMPW45",
        "colab": {}
      },
      "source": [
        "# reduce maxpooling layers\n",
        "class Net(Module):\n",
        "    def __init__(self):\n",
        "        super(Net, self).__init__()\n",
        "\n",
        "        self.ave = nn.AvgPool1d(kernel_size = 6, stride = 6)\n",
        "        # 22*100\n",
        "        self.cnn_layers = Sequential(\n",
        "            # first conv\n",
        "            nn.Conv1d(in_channels = 22, out_channels = 32, kernel_size = 3, stride=1),\n",
        "            nn.BatchNorm1d(32),\n",
        "            nn.ELU(inplace=True),\n",
        "\n",
        "            # second conv\n",
        "            nn.Conv1d(in_channels = 32, out_channels = 32, kernel_size = 3, stride=1),\n",
        "            nn.BatchNorm1d(32),\n",
        "            nn.ELU(inplace=True),\n",
        "\n",
        "            # third conv\n",
        "            nn.Conv1d(in_channels = 32, out_channels = 32, kernel_size = 3, stride=1),\n",
        "            nn.BatchNorm1d(32),\n",
        "            nn.ELU(inplace=True),\n",
        "            nn.MaxPool1d(kernel_size=4, stride=2),\n",
        "            # 64*46\n",
        "        )\n",
        "\n",
        "        self.LSTM= nn.LSTM(32, 16, 4, batch_first=True, dropout = 0.1, bidirectional = True)\n",
        "\n",
        "        self.linear_layers = Sequential(\n",
        "            Linear(46*32,128),\n",
        "            nn.BatchNorm1d(128),\n",
        "            ReLU(inplace=True),\n",
        "\n",
        "            Linear(128,32),\n",
        "            nn.BatchNorm1d(32),\n",
        "            ReLU(inplace=True),\n",
        "\n",
        "            Linear(32, 4)\n",
        "        )\n",
        "        \n",
        "    def forward(self, x):\n",
        "        x = self.ave(x)\n",
        "        x = self.cnn_layers(x)\n",
        "        x = x.transpose(1, 2)\n",
        "        x,_ = self.LSTM(x)\n",
        "        x = x.reshape((-1, 46*32))\n",
        "        x = self.linear_layers(x)\n",
        "        return x\n",
        "        "
      ],
      "execution_count": 0,
      "outputs": []
    },
    {
      "cell_type": "code",
      "metadata": {
        "id": "XB3yXly1ljYd",
        "colab_type": "code",
        "outputId": "114300b2-d490-41b2-8f82-3f58cd2ad193",
        "colab": {
          "base_uri": "https://localhost:8080/",
          "height": 461
        }
      },
      "source": [
        "# defining the model\n",
        "model = Net()\n",
        "model = model.float()\n",
        "\n",
        "# defining the loss function\n",
        "criterion = CrossEntropyLoss()\n",
        "# checking if GPU is available\n",
        "if torch.cuda.is_available():\n",
        "    model = model.cuda()\n",
        "    criterion = criterion.cuda()\n",
        "\n",
        "print(model)"
      ],
      "execution_count": 11,
      "outputs": [
        {
          "output_type": "stream",
          "text": [
            "Net(\n",
            "  (ave): AvgPool1d(kernel_size=(6,), stride=(6,), padding=(0,))\n",
            "  (cnn_layers): Sequential(\n",
            "    (0): Conv1d(22, 32, kernel_size=(3,), stride=(1,))\n",
            "    (1): BatchNorm1d(32, eps=1e-05, momentum=0.1, affine=True, track_running_stats=True)\n",
            "    (2): ELU(alpha=1.0, inplace=True)\n",
            "    (3): Conv1d(32, 32, kernel_size=(3,), stride=(1,))\n",
            "    (4): BatchNorm1d(32, eps=1e-05, momentum=0.1, affine=True, track_running_stats=True)\n",
            "    (5): ELU(alpha=1.0, inplace=True)\n",
            "    (6): Conv1d(32, 32, kernel_size=(3,), stride=(1,))\n",
            "    (7): BatchNorm1d(32, eps=1e-05, momentum=0.1, affine=True, track_running_stats=True)\n",
            "    (8): ELU(alpha=1.0, inplace=True)\n",
            "    (9): MaxPool1d(kernel_size=4, stride=2, padding=0, dilation=1, ceil_mode=False)\n",
            "  )\n",
            "  (LSTM): LSTM(32, 16, num_layers=4, batch_first=True, dropout=0.1, bidirectional=True)\n",
            "  (linear_layers): Sequential(\n",
            "    (0): Linear(in_features=1472, out_features=128, bias=True)\n",
            "    (1): BatchNorm1d(128, eps=1e-05, momentum=0.1, affine=True, track_running_stats=True)\n",
            "    (2): ReLU(inplace=True)\n",
            "    (3): Linear(in_features=128, out_features=32, bias=True)\n",
            "    (4): BatchNorm1d(32, eps=1e-05, momentum=0.1, affine=True, track_running_stats=True)\n",
            "    (5): ReLU(inplace=True)\n",
            "    (6): Linear(in_features=32, out_features=4, bias=True)\n",
            "  )\n",
            ")\n"
          ],
          "name": "stdout"
        }
      ]
    },
    {
      "cell_type": "code",
      "metadata": {
        "id": "irMLoZ0inz4j",
        "colab_type": "code",
        "outputId": "4cb5a144-2325-4eaf-e49c-647b91bc1111",
        "colab": {
          "base_uri": "https://localhost:8080/",
          "height": 923
        }
      },
      "source": [
        "model = Net()\n",
        "model = model.float()\n",
        "if torch.cuda.is_available():\n",
        "    model = model.cuda()\n",
        "    criterion = criterion.cuda()\n",
        "##### hyperparameters#########\n",
        "batch_size = 10\n",
        "lrs = [1e-3]\n",
        "weight_decay = 0 # regularization\n",
        "optimizer = Adam(model.parameters(), lr=lrs[0],  weight_decay=weight_decay)\n",
        "n_epochs = 17\n",
        "train_losses = []\n",
        "val_losses = []\n",
        "train_data = TensorDataset(X_train_cur1, y_train)\n",
        "train_loader = DataLoader(train_data, shuffle=True, batch_size=batch_size, drop_last=True)\n",
        "\n",
        "for lr in lrs:\n",
        "    optimizer = Adam(model.parameters(), lr=lr,  weight_decay=weight_decay)\n",
        "    for epoch in range(n_epochs):\n",
        "        train_loss = 0\n",
        "\n",
        "        for i,data in enumerate(train_loader, 0):\n",
        "            # extract data in this batch\n",
        "            inputs, labels = data\n",
        "\n",
        "            if torch.cuda.is_available():\n",
        "                inputs = inputs.cuda()\n",
        "                labels = labels.cuda()\n",
        "\n",
        "            #Set the parameter gradients to zero\n",
        "            optimizer.zero_grad()\n",
        "            \n",
        "            #Forward pass, backward pass, optimize\n",
        "            output = model(inputs.float())\n",
        "            loss_train = criterion(output, labels.long())\n",
        "            loss_train.backward()\n",
        "            optimizer.step()\n",
        "\n",
        "            #Print statistics\n",
        "            train_loss += loss_train\n",
        "\n",
        "        train_losses.append(train_loss)   \n",
        "        ## training accuracy\n",
        "        with torch.no_grad():\n",
        "            output = model(X_train_cur1.cuda().float())\n",
        "            \n",
        "        softmax = torch.exp(output).cpu()\n",
        "        prob = list(softmax.numpy())\n",
        "        predictions = np.argmax(prob, axis=1)\n",
        "        # accuracy on training set\n",
        "        train_acc = accuracy_score(y_train.cpu(), predictions)\n",
        "\n",
        "        # validation loss\n",
        "        with torch.no_grad():\n",
        "            output = model(X_val_cur1.cuda().float())\n",
        "        val_loss = criterion(output, y_val.cuda().long())\n",
        "        val_losses.append(val_loss)\n",
        "        softmax = torch.exp(output).cpu()\n",
        "        prob = list(softmax.numpy())\n",
        "        predictions = np.argmax(prob, axis=1)\n",
        "        # accuracy on validation set\n",
        "        val_acc = accuracy_score(y_val.cpu(), predictions)\n",
        "\n",
        "        ## test accuracy\n",
        "        with torch.no_grad():\n",
        "            output = model(X_test_cur1.to(device).cuda().float())\n",
        "        softmax = torch.exp(output).cpu()\n",
        "        prob = list(softmax.numpy())\n",
        "        predictions = np.argmax(prob, axis=1)\n",
        "        print(predictions.shape)\n",
        "        # accuracy on test set\n",
        "        test_acc = accuracy_score(y_test.cpu(), predictions)\n",
        "\n",
        "        print(\"Epoch {}, train_loss: {:.2f}, \\t val_loss: {:.2f} \".format(\n",
        "                    epoch+1, train_loss, val_loss))\n",
        "        print(\"training accuracy = {:.2f}, \\t validation accuracy = {:.2f}, \\t test accuracy = {:.2f}\".format(train_acc, val_acc, test_acc))"
      ],
      "execution_count": 15,
      "outputs": [
        {
          "output_type": "stream",
          "text": [
            "(443,)\n",
            "Epoch 1, train_loss: 252.11, \t val_loss: 1.30 \n",
            "training accuracy = 0.46, \t validation accuracy = 0.44, \t test accuracy = 0.44\n",
            "(443,)\n",
            "Epoch 2, train_loss: 232.33, \t val_loss: 1.16 \n",
            "training accuracy = 0.55, \t validation accuracy = 0.50, \t test accuracy = 0.49\n",
            "(443,)\n",
            "Epoch 3, train_loss: 218.12, \t val_loss: 1.13 \n",
            "training accuracy = 0.58, \t validation accuracy = 0.50, \t test accuracy = 0.51\n",
            "(443,)\n",
            "Epoch 4, train_loss: 209.04, \t val_loss: 1.06 \n",
            "training accuracy = 0.62, \t validation accuracy = 0.55, \t test accuracy = 0.53\n",
            "(443,)\n",
            "Epoch 5, train_loss: 197.74, \t val_loss: 0.99 \n",
            "training accuracy = 0.66, \t validation accuracy = 0.60, \t test accuracy = 0.53\n",
            "(443,)\n",
            "Epoch 6, train_loss: 187.39, \t val_loss: 0.98 \n",
            "training accuracy = 0.68, \t validation accuracy = 0.57, \t test accuracy = 0.57\n",
            "(443,)\n",
            "Epoch 7, train_loss: 183.06, \t val_loss: 1.01 \n",
            "training accuracy = 0.68, \t validation accuracy = 0.58, \t test accuracy = 0.57\n",
            "(443,)\n",
            "Epoch 8, train_loss: 171.98, \t val_loss: 0.90 \n",
            "training accuracy = 0.72, \t validation accuracy = 0.63, \t test accuracy = 0.57\n",
            "(443,)\n",
            "Epoch 9, train_loss: 168.81, \t val_loss: 0.93 \n",
            "training accuracy = 0.74, \t validation accuracy = 0.66, \t test accuracy = 0.59\n",
            "(443,)\n",
            "Epoch 10, train_loss: 164.07, \t val_loss: 0.96 \n",
            "training accuracy = 0.76, \t validation accuracy = 0.61, \t test accuracy = 0.58\n",
            "(443,)\n",
            "Epoch 11, train_loss: 153.45, \t val_loss: 0.86 \n",
            "training accuracy = 0.79, \t validation accuracy = 0.66, \t test accuracy = 0.64\n",
            "(443,)\n",
            "Epoch 12, train_loss: 145.50, \t val_loss: 0.91 \n",
            "training accuracy = 0.80, \t validation accuracy = 0.61, \t test accuracy = 0.63\n",
            "(443,)\n",
            "Epoch 13, train_loss: 148.79, \t val_loss: 0.93 \n",
            "training accuracy = 0.78, \t validation accuracy = 0.63, \t test accuracy = 0.62\n",
            "(443,)\n",
            "Epoch 14, train_loss: 135.39, \t val_loss: 0.85 \n",
            "training accuracy = 0.83, \t validation accuracy = 0.68, \t test accuracy = 0.64\n",
            "(443,)\n",
            "Epoch 15, train_loss: 125.95, \t val_loss: 0.87 \n",
            "training accuracy = 0.83, \t validation accuracy = 0.62, \t test accuracy = 0.61\n",
            "(443,)\n",
            "Epoch 16, train_loss: 125.11, \t val_loss: 0.92 \n",
            "training accuracy = 0.85, \t validation accuracy = 0.65, \t test accuracy = 0.61\n",
            "(443,)\n",
            "Epoch 17, train_loss: 121.27, \t val_loss: 0.81 \n",
            "training accuracy = 0.85, \t validation accuracy = 0.68, \t test accuracy = 0.65\n"
          ],
          "name": "stdout"
        }
      ]
    },
    {
      "cell_type": "code",
      "metadata": {
        "id": "C5P_U43BBNah",
        "colab_type": "code",
        "colab": {}
      },
      "source": [
        ""
      ],
      "execution_count": 0,
      "outputs": []
    }
  ]
}
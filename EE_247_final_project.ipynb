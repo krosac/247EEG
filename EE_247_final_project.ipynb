{
  "nbformat": 4,
  "nbformat_minor": 0,
  "metadata": {
    "kernelspec": {
      "name": "python3",
      "display_name": "Python 3"
    },
    "language_info": {
      "codemirror_mode": {
        "name": "ipython",
        "version": 3
      },
      "file_extension": ".py",
      "mimetype": "text/x-python",
      "name": "python",
      "nbconvert_exporter": "python",
      "pygments_lexer": "ipython3",
      "version": "3.6.9"
    },
    "colab": {
      "name": "EE 247 final project.ipynb",
      "provenance": [],
      "collapsed_sections": [],
      "machine_shape": "hm"
    },
    "accelerator": "GPU"
  },
  "cells": [
    {
      "cell_type": "code",
      "metadata": {
        "id": "DiGI0306sEJX",
        "colab_type": "code",
        "outputId": "587b9096-16ee-4fc5-9e3d-273ce13531d8",
        "colab": {
          "base_uri": "https://localhost:8080/",
          "height": 121
        }
      },
      "source": [
        "from google.colab import drive\n",
        "drive.mount('/content/drive')"
      ],
      "execution_count": 0,
      "outputs": [
        {
          "output_type": "stream",
          "text": [
            "Go to this URL in a browser: https://accounts.google.com/o/oauth2/auth?client_id=947318989803-6bn6qk8qdgf4n4g3pfee6491hc0brc4i.apps.googleusercontent.com&redirect_uri=urn%3aietf%3awg%3aoauth%3a2.0%3aoob&response_type=code&scope=email%20https%3a%2f%2fwww.googleapis.com%2fauth%2fdocs.test%20https%3a%2f%2fwww.googleapis.com%2fauth%2fdrive%20https%3a%2f%2fwww.googleapis.com%2fauth%2fdrive.photos.readonly%20https%3a%2f%2fwww.googleapis.com%2fauth%2fpeopleapi.readonly\n",
            "\n",
            "Enter your authorization code:\n",
            "··········\n",
            "Mounted at /content/drive\n"
          ],
          "name": "stdout"
        }
      ]
    },
    {
      "cell_type": "code",
      "metadata": {
        "id": "sKSF1YIpsmIu",
        "colab_type": "code",
        "colab": {}
      },
      "source": [
        "import os\n",
        "os.chdir(\"drive/My Drive/Colab Notebooks\")"
      ],
      "execution_count": 0,
      "outputs": []
    },
    {
      "cell_type": "code",
      "metadata": {
        "id": "dwjCfkAvljYG",
        "colab_type": "code",
        "colab": {}
      },
      "source": [
        "import numpy as np\n",
        "import matplotlib.pyplot as plt\n",
        "# for creating validation set\n",
        "from sklearn.model_selection import train_test_split\n",
        "# for evaluating the model\n",
        "from sklearn.metrics import accuracy_score\n",
        "from tqdm import tqdm\n",
        "import random\n",
        "\n",
        "import torch\n",
        "import torch.nn as nn\n",
        "import torch.nn.functional as F\n",
        "from torch.autograd import Variable\n",
        "from torch.utils.data import TensorDataset, DataLoader\n",
        "from torch.nn import Linear, ReLU, CrossEntropyLoss, Sequential, Conv2d, MaxPool2d, Module, Softmax, BatchNorm2d, Dropout, ELU\n",
        "from torch.optim import Adam, SGD"
      ],
      "execution_count": 0,
      "outputs": []
    },
    {
      "cell_type": "code",
      "metadata": {
        "id": "ZzjOal5dljYM",
        "colab_type": "code",
        "colab": {}
      },
      "source": [
        "X_test = np.load(\"X_test.npy\")\n",
        "y_test = np.load(\"y_test.npy\")\n",
        "person_train_valid = np.load(\"person_train_valid.npy\")\n",
        "X_train_valid = np.load(\"X_train_valid.npy\")\n",
        "y_train_valid = np.load(\"y_train_valid.npy\")\n",
        "person_test = np.load(\"person_test.npy\")"
      ],
      "execution_count": 0,
      "outputs": []
    },
    {
      "cell_type": "code",
      "metadata": {
        "id": "8pNlBDcfljYP",
        "colab_type": "code",
        "outputId": "4ce91021-482a-41e1-ba5e-4d9c765ad995",
        "colab": {
          "base_uri": "https://localhost:8080/",
          "height": 118
        }
      },
      "source": [
        "print ('Training/Valid data shape: {}'.format(X_train_valid.shape))\n",
        "print ('Test data shape: {}'.format(X_test.shape))\n",
        "print ('Training/Valid target shape: {}'.format(y_train_valid.shape))\n",
        "print ('Test target shape: {}'.format(y_test.shape))\n",
        "print ('Person train/valid shape: {}'.format(person_train_valid.shape))\n",
        "print ('Person test shape: {}'.format(person_test.shape))"
      ],
      "execution_count": 0,
      "outputs": [
        {
          "output_type": "stream",
          "text": [
            "Training/Valid data shape: (2115, 22, 1000)\n",
            "Test data shape: (443, 22, 1000)\n",
            "Training/Valid target shape: (2115,)\n",
            "Test target shape: (443,)\n",
            "Person train/valid shape: (2115, 1)\n",
            "Person test shape: (443, 1)\n"
          ],
          "name": "stdout"
        }
      ]
    },
    {
      "cell_type": "code",
      "metadata": {
        "id": "f1OTW12fljYT",
        "colab_type": "code",
        "outputId": "b46e75e5-f91f-4d9d-eb3e-6db623af84ed",
        "colab": {
          "base_uri": "https://localhost:8080/",
          "height": 34
        }
      },
      "source": [
        "# change dimensions\n",
        "# X_train_valid = X_train_valid[:, np.newaxis, :, :]\n",
        "# X_test = X_test[:, np.newaxis, :, :]\n",
        "# # create labels \n",
        "# y_train_valid = y_train_valid - 769\n",
        "# y_test = y_test -769\n",
        "\n",
        "# split training and validation\n",
        "X_train, X_val, y_train, y_val = train_test_split(X_train_valid, y_train_valid, test_size = 0.1)\n",
        "data = []\n",
        "(X_train.shape, y_train.shape), (X_val.shape, y_val.shape)"
      ],
      "execution_count": 0,
      "outputs": [
        {
          "output_type": "execute_result",
          "data": {
            "text/plain": [
              "(((1903, 22, 1000), (1903,)), ((212, 22, 1000), (212,)))"
            ]
          },
          "metadata": {
            "tags": []
          },
          "execution_count": 13
        }
      ]
    },
    {
      "cell_type": "code",
      "metadata": {
        "id": "TgNpsbBkljYX",
        "colab_type": "code",
        "colab": {}
      },
      "source": [
        "# transform to torch tensor\n",
        "X_train = torch.from_numpy(X_train)\n",
        "y_train = torch.from_numpy(y_train)\n",
        "\n",
        "X_val = torch.from_numpy(X_val)\n",
        "y_val = torch.from_numpy(y_val)\n"
      ],
      "execution_count": 0,
      "outputs": []
    },
    {
      "cell_type": "code",
      "metadata": {
        "id": "B9ms47EOMs_O",
        "colab_type": "code",
        "colab": {}
      },
      "source": [
        "# process the data in batches for training\n",
        "batch_size = 100\n",
        "train_data = TensorDataset(X_train, y_train)\n",
        "train_loader = DataLoader(train_data, shuffle=True, batch_size=batch_size, drop_last=True)"
      ],
      "execution_count": 0,
      "outputs": []
    },
    {
      "cell_type": "code",
      "metadata": {
        "id": "prPUUbqaljYa",
        "colab_type": "code",
        "colab": {}
      },
      "source": [
        "class Net(Module):\n",
        "    def __init__(self):\n",
        "        super(Net, self).__init__()\n",
        "\n",
        "        self.cnn_layers = Sequential(\n",
        "            # first conv\n",
        "            Conv2d(in_channels = 1, out_channels = 16, kernel_size = (1,10)),\n",
        "            BatchNorm2d(16),\n",
        "            ELU(inplace=True),\n",
        "            MaxPool2d(kernel_size=(1,7), stride=(1,4)),\n",
        "            # output 16*22*247\n",
        "\n",
        "            # second conv\n",
        "            Conv2d(in_channels = 16, out_channels = 32, kernel_size = (1,10)),\n",
        "            BatchNorm2d(32),\n",
        "            ELU(inplace=True),\n",
        "            MaxPool2d(kernel_size=(1,6), stride=(1,4)),\n",
        "            # output 32*22*59\n",
        "\n",
        "            # third conv\n",
        "            Conv2d(in_channels = 32, out_channels = 64, kernel_size = (1,10)),\n",
        "            BatchNorm2d(64),\n",
        "            ELU(inplace=True),\n",
        "            MaxPool2d(kernel_size=(1,6), stride=(1,4)),\n",
        "            # output 64*22*12\n",
        "\n",
        "            # fourth conv\n",
        "            Conv2d(in_channels = 64, out_channels = 128, kernel_size = (21,1)),\n",
        "            BatchNorm2d(128),\n",
        "            ELU(inplace=True),\n",
        "            MaxPool2d(kernel_size=(1,4), stride=(1,4)),\n",
        "            # output 128*2*3\n",
        "        )\n",
        "\n",
        "        self.linear_layers = Sequential(\n",
        "            Linear(128*2*3,4)\n",
        "        ) \n",
        "    \n",
        "    def forward(self, x):\n",
        "        x = self.cnn_layers(x)\n",
        "        x = x.view(x.size(0), -1)\n",
        "        x = self.linear_layers(x)\n",
        "        return x\n",
        "        "
      ],
      "execution_count": 0,
      "outputs": []
    },
    {
      "cell_type": "code",
      "metadata": {
        "id": "XB3yXly1ljYd",
        "colab_type": "code",
        "outputId": "88088a69-d0a6-463e-ebb7-0f9db759d5f1",
        "colab": {
          "base_uri": "https://localhost:8080/",
          "height": 403
        }
      },
      "source": [
        "# defining the model\n",
        "model = Net()\n",
        "model = model.float()\n",
        "# defining the optimizer\n",
        "optimizer = Adam(model.parameters(), lr=0.07)\n",
        "# defining the loss function\n",
        "criterion = CrossEntropyLoss()\n",
        "# checking if GPU is available\n",
        "if torch.cuda.is_available():\n",
        "    model = model.cuda()\n",
        "    criterion = criterion.cuda()\n",
        "\n",
        "print(model)"
      ],
      "execution_count": 0,
      "outputs": [
        {
          "output_type": "stream",
          "text": [
            "Net(\n",
            "  (cnn_layers): Sequential(\n",
            "    (0): Conv2d(1, 16, kernel_size=(1, 10), stride=(1, 1))\n",
            "    (1): BatchNorm2d(16, eps=1e-05, momentum=0.1, affine=True, track_running_stats=True)\n",
            "    (2): ELU(alpha=1.0, inplace=True)\n",
            "    (3): MaxPool2d(kernel_size=(1, 7), stride=(1, 4), padding=0, dilation=1, ceil_mode=False)\n",
            "    (4): Conv2d(16, 32, kernel_size=(1, 10), stride=(1, 1))\n",
            "    (5): BatchNorm2d(32, eps=1e-05, momentum=0.1, affine=True, track_running_stats=True)\n",
            "    (6): ELU(alpha=1.0, inplace=True)\n",
            "    (7): MaxPool2d(kernel_size=(1, 6), stride=(1, 4), padding=0, dilation=1, ceil_mode=False)\n",
            "    (8): Conv2d(32, 64, kernel_size=(1, 10), stride=(1, 1))\n",
            "    (9): BatchNorm2d(64, eps=1e-05, momentum=0.1, affine=True, track_running_stats=True)\n",
            "    (10): ELU(alpha=1.0, inplace=True)\n",
            "    (11): MaxPool2d(kernel_size=(1, 6), stride=(1, 4), padding=0, dilation=1, ceil_mode=False)\n",
            "    (12): Conv2d(64, 128, kernel_size=(21, 1), stride=(1, 1))\n",
            "    (13): BatchNorm2d(128, eps=1e-05, momentum=0.1, affine=True, track_running_stats=True)\n",
            "    (14): ELU(alpha=1.0, inplace=True)\n",
            "    (15): MaxPool2d(kernel_size=(1, 4), stride=(1, 4), padding=0, dilation=1, ceil_mode=False)\n",
            "  )\n",
            "  (linear_layers): Sequential(\n",
            "    (0): Linear(in_features=768, out_features=4, bias=True)\n",
            "  )\n",
            ")\n"
          ],
          "name": "stdout"
        }
      ]
    },
    {
      "cell_type": "code",
      "metadata": {
        "id": "UGgOfzkJtj6i",
        "colab_type": "code",
        "outputId": "01633ba1-2aba-4964-dc7f-bf51526a0e23",
        "colab": {
          "base_uri": "https://localhost:8080/",
          "height": 34
        }
      },
      "source": [
        "torch.cuda.is_available()"
      ],
      "execution_count": 0,
      "outputs": [
        {
          "output_type": "execute_result",
          "data": {
            "text/plain": [
              "True"
            ]
          },
          "metadata": {
            "tags": []
          },
          "execution_count": 11
        }
      ]
    },
    {
      "cell_type": "code",
      "metadata": {
        "id": "K-NmmHPUxaTx",
        "colab_type": "code",
        "outputId": "de2aab25-b93a-4b38-ff8d-1dd8e6f7fc4c",
        "colab": {
          "base_uri": "https://localhost:8080/",
          "height": 1000
        }
      },
      "source": [
        "if torch.cuda.is_available():\n",
        "    X_train = X_train.cuda()\n",
        "    y_train = y_train.cuda()\n",
        "    X_val = X_val.cuda()\n",
        "    y_val = y_val.cuda()\n",
        "\n",
        "##### hyperparameters#########\n",
        "# defining the optimizer\n",
        "optimizer = Adam(model.parameters(), lr=1e-3)\n",
        "n_epochs = 10\n",
        "batch_size = 100\n",
        "n_batches = len(y_train)//batch_size\n",
        "\n",
        "for epoch in range(n_epochs):\n",
        "    running_loss = 0\n",
        "    print_every = n_batches // 10\n",
        "    #start_time = time.time()\n",
        "    total_train_loss = 0\n",
        "    for i,data in enumerate(train_loader, 0):\n",
        "        # extract data in this batch\n",
        "        inputs, labels = data\n",
        "\n",
        "        if torch.cuda.is_available():\n",
        "            inputs = inputs.cuda()\n",
        "            labels = labels.cuda()\n",
        "  \n",
        "        #Set the parameter gradients to zero\n",
        "        optimizer.zero_grad()\n",
        "        \n",
        "        #Forward pass, backward pass, optimize\n",
        "        outputs = model(inputs.float())\n",
        "        loss_train = criterion(outputs, labels.long())\n",
        "        loss_train.backward()\n",
        "        optimizer.step()\n",
        "\n",
        "        #Print statistics\n",
        "        running_loss += loss_train\n",
        "        total_train_loss += loss_train\n",
        "        \n",
        "        #Print every 10th batch of an epoch\n",
        "        if (i + 1) % (print_every + 1) == 0:\n",
        "            print(\"Epoch {}, {:d}% \\t train_loss: {:.2f} \".format(\n",
        "                    epoch+1, int(100 * (i+1) / n_batches), running_loss / print_every))\n",
        "            #Reset running loss and time\n",
        "            running_loss = 0.0\n",
        "        \n",
        "    #At the end of the epoch, do a pass on the validation set\n",
        "    output_val = model(X_val.cuda().float())\n",
        "    loss_val = criterion(output_val, y_val.long())\n",
        "\n",
        "    print(\"Validation loss = {:.2f}\".format(loss_val))\n"
      ],
      "execution_count": 0,
      "outputs": [
        {
          "output_type": "stream",
          "text": [
            "Epoch 1, 10% \t train_loss: 0.11 \n",
            "Epoch 1, 21% \t train_loss: 0.12 \n",
            "Epoch 1, 31% \t train_loss: 0.15 \n",
            "Epoch 1, 42% \t train_loss: 0.15 \n",
            "Epoch 1, 52% \t train_loss: 0.19 \n",
            "Epoch 1, 63% \t train_loss: 0.20 \n",
            "Epoch 1, 73% \t train_loss: 0.20 \n",
            "Epoch 1, 84% \t train_loss: 0.20 \n",
            "Epoch 1, 94% \t train_loss: 0.19 \n",
            "Validation loss = 1.34\n",
            "Epoch 2, 10% \t train_loss: 0.08 \n",
            "Epoch 2, 21% \t train_loss: 0.11 \n",
            "Epoch 2, 31% \t train_loss: 0.13 \n",
            "Epoch 2, 42% \t train_loss: 0.11 \n",
            "Epoch 2, 52% \t train_loss: 0.15 \n",
            "Epoch 2, 63% \t train_loss: 0.12 \n",
            "Epoch 2, 73% \t train_loss: 0.12 \n",
            "Epoch 2, 84% \t train_loss: 0.12 \n",
            "Epoch 2, 94% \t train_loss: 0.12 \n",
            "Validation loss = 1.64\n",
            "Epoch 3, 10% \t train_loss: 0.08 \n",
            "Epoch 3, 21% \t train_loss: 0.07 \n",
            "Epoch 3, 31% \t train_loss: 0.08 \n",
            "Epoch 3, 42% \t train_loss: 0.07 \n",
            "Epoch 3, 52% \t train_loss: 0.07 \n",
            "Epoch 3, 63% \t train_loss: 0.09 \n",
            "Epoch 3, 73% \t train_loss: 0.05 \n",
            "Epoch 3, 84% \t train_loss: 0.06 \n",
            "Epoch 3, 94% \t train_loss: 0.07 \n",
            "Validation loss = 1.62\n",
            "Epoch 4, 10% \t train_loss: 0.04 \n",
            "Epoch 4, 21% \t train_loss: 0.03 \n",
            "Epoch 4, 31% \t train_loss: 0.03 \n",
            "Epoch 4, 42% \t train_loss: 0.04 \n",
            "Epoch 4, 52% \t train_loss: 0.03 \n",
            "Epoch 4, 63% \t train_loss: 0.03 \n",
            "Epoch 4, 73% \t train_loss: 0.03 \n",
            "Epoch 4, 84% \t train_loss: 0.03 \n",
            "Epoch 4, 94% \t train_loss: 0.02 \n",
            "Validation loss = 1.64\n",
            "Epoch 5, 10% \t train_loss: 0.01 \n",
            "Epoch 5, 21% \t train_loss: 0.01 \n",
            "Epoch 5, 31% \t train_loss: 0.01 \n",
            "Epoch 5, 42% \t train_loss: 0.01 \n",
            "Epoch 5, 52% \t train_loss: 0.01 \n",
            "Epoch 5, 63% \t train_loss: 0.01 \n",
            "Epoch 5, 73% \t train_loss: 0.01 \n",
            "Epoch 5, 84% \t train_loss: 0.01 \n",
            "Epoch 5, 94% \t train_loss: 0.01 \n",
            "Validation loss = 1.63\n",
            "Epoch 6, 10% \t train_loss: 0.01 \n",
            "Epoch 6, 21% \t train_loss: 0.01 \n",
            "Epoch 6, 31% \t train_loss: 0.01 \n",
            "Epoch 6, 42% \t train_loss: 0.01 \n",
            "Epoch 6, 52% \t train_loss: 0.01 \n",
            "Epoch 6, 63% \t train_loss: 0.01 \n",
            "Epoch 6, 73% \t train_loss: 0.00 \n",
            "Epoch 6, 84% \t train_loss: 0.01 \n",
            "Epoch 6, 94% \t train_loss: 0.01 \n",
            "Validation loss = 1.65\n",
            "Epoch 7, 10% \t train_loss: 0.00 \n",
            "Epoch 7, 21% \t train_loss: 0.00 \n",
            "Epoch 7, 31% \t train_loss: 0.00 \n",
            "Epoch 7, 42% \t train_loss: 0.00 \n",
            "Epoch 7, 52% \t train_loss: 0.00 \n",
            "Epoch 7, 63% \t train_loss: 0.00 \n",
            "Epoch 7, 73% \t train_loss: 0.00 \n",
            "Epoch 7, 84% \t train_loss: 0.00 \n",
            "Epoch 7, 94% \t train_loss: 0.00 \n",
            "Validation loss = 1.69\n",
            "Epoch 8, 10% \t train_loss: 0.00 \n",
            "Epoch 8, 21% \t train_loss: 0.00 \n",
            "Epoch 8, 31% \t train_loss: 0.00 \n",
            "Epoch 8, 42% \t train_loss: 0.00 \n",
            "Epoch 8, 52% \t train_loss: 0.00 \n",
            "Epoch 8, 63% \t train_loss: 0.00 \n",
            "Epoch 8, 73% \t train_loss: 0.00 \n",
            "Epoch 8, 84% \t train_loss: 0.00 \n",
            "Epoch 8, 94% \t train_loss: 0.00 \n",
            "Validation loss = 1.69\n",
            "Epoch 9, 10% \t train_loss: 0.00 \n",
            "Epoch 9, 21% \t train_loss: 0.00 \n",
            "Epoch 9, 31% \t train_loss: 0.00 \n",
            "Epoch 9, 42% \t train_loss: 0.00 \n",
            "Epoch 9, 52% \t train_loss: 0.00 \n",
            "Epoch 9, 63% \t train_loss: 0.00 \n",
            "Epoch 9, 73% \t train_loss: 0.00 \n",
            "Epoch 9, 84% \t train_loss: 0.00 \n",
            "Epoch 9, 94% \t train_loss: 0.00 \n",
            "Validation loss = 1.71\n",
            "Epoch 10, 10% \t train_loss: 0.00 \n",
            "Epoch 10, 21% \t train_loss: 0.00 \n",
            "Epoch 10, 31% \t train_loss: 0.00 \n",
            "Epoch 10, 42% \t train_loss: 0.00 \n",
            "Epoch 10, 52% \t train_loss: 0.00 \n",
            "Epoch 10, 63% \t train_loss: 0.00 \n",
            "Epoch 10, 73% \t train_loss: 0.00 \n",
            "Epoch 10, 84% \t train_loss: 0.00 \n",
            "Epoch 10, 94% \t train_loss: 0.00 \n",
            "Validation loss = 1.71\n"
          ],
          "name": "stdout"
        }
      ]
    },
    {
      "cell_type": "code",
      "metadata": {
        "id": "EjL-aowXgBOz",
        "colab_type": "code",
        "outputId": "0210ce06-d4c0-4c83-ae13-42664cea59fa",
        "colab": {
          "base_uri": "https://localhost:8080/",
          "height": 34
        }
      },
      "source": [
        "## training accuracy\n",
        "with torch.no_grad():\n",
        "    output = model(X_train.cuda().float())\n",
        "    \n",
        "softmax = torch.exp(output).cpu()\n",
        "prob = list(softmax.numpy())\n",
        "predictions = np.argmax(prob, axis=1)\n",
        "\n",
        "# accuracy on training set\n",
        "accuracy_score(y_train.cpu(), predictions)"
      ],
      "execution_count": 0,
      "outputs": [
        {
          "output_type": "execute_result",
          "data": {
            "text/plain": [
              "1.0"
            ]
          },
          "metadata": {
            "tags": []
          },
          "execution_count": 23
        }
      ]
    },
    {
      "cell_type": "code",
      "metadata": {
        "id": "1J1RosTDg0en",
        "colab_type": "code",
        "outputId": "e3192b8f-3315-4be7-b6de-0b5fa3336ea0",
        "colab": {
          "base_uri": "https://localhost:8080/",
          "height": 34
        }
      },
      "source": [
        "## validation accuracy\n",
        "with torch.no_grad():\n",
        "    output = model(X_val.cuda().float())\n",
        "softmax = torch.exp(output).cpu()\n",
        "prob = list(softmax.numpy())\n",
        "predictions = np.argmax(prob, axis=1)\n",
        "\n",
        "# accuracy on validation set\n",
        "accuracy_score(y_val.cpu(), predictions)"
      ],
      "execution_count": 0,
      "outputs": [
        {
          "output_type": "execute_result",
          "data": {
            "text/plain": [
              "0.49056603773584906"
            ]
          },
          "metadata": {
            "tags": []
          },
          "execution_count": 24
        }
      ]
    },
    {
      "cell_type": "markdown",
      "metadata": {
        "id": "QkKGke9JJxGw",
        "colab_type": "text"
      },
      "source": [
        "The naive CNN above seems to overfit the data. Next let's try GRU mentioned in https://arxiv.org/pdf/1802.00308.pdf\n"
      ]
    },
    {
      "cell_type": "code",
      "metadata": {
        "id": "Y9xecE_dKDAz",
        "colab_type": "code",
        "colab": {}
      },
      "source": [
        "class GRUNet(nn.Module):\n",
        "    def __init__(self):\n",
        "        super(GRUNet, self).__init__()\n",
        "        self.gru = nn.GRU(input_size =22, hidden_size = 32, num_layers = 4, \n",
        "                          batch_first=True, dropout=0.2)\n",
        "        self.FC = Linear(32, 4)\n",
        "        self.relu = ReLU(inplace=True)\n",
        "    \n",
        "    def forward(self, x, h):\n",
        "        out, h = self.gru(x, h)\n",
        "        out = self.fc(self.relu(out[:,-1]))\n",
        "        return out, h\n",
        "\n",
        "\n"
      ],
      "execution_count": 0,
      "outputs": []
    },
    {
      "cell_type": "code",
      "metadata": {
        "id": "82r61i3BoqFy",
        "colab_type": "code",
        "outputId": "5f382bda-5d5a-4148-9852-0f26d539c2a6",
        "colab": {
          "base_uri": "https://localhost:8080/",
          "height": 101
        }
      },
      "source": [
        "# defining the model\n",
        "model = GRUNet()\n",
        "# model = model.float()\n",
        "# # defining the optimizer\n",
        "# optimizer = Adam(model.parameters(), lr=0.07)\n",
        "# # defining the loss function\n",
        "# criterion = CrossEntropyLoss()\n",
        "# # checking if GPU is available\n",
        "# if torch.cuda.is_available():\n",
        "#     model = model.cuda()\n",
        "#     criterion = criterion.cuda()\n",
        "\n",
        "print(model)"
      ],
      "execution_count": 0,
      "outputs": [
        {
          "output_type": "stream",
          "text": [
            "GRUNet(\n",
            "  (gru): GRU(22, 32, num_layers=4, batch_first=True, dropout=0.2)\n",
            "  (FC): Linear(in_features=32, out_features=4, bias=True)\n",
            "  (relu): ReLU(inplace=True)\n",
            ")\n"
          ],
          "name": "stdout"
        }
      ]
    },
    {
      "cell_type": "code",
      "metadata": {
        "id": "4kvo8E1apZXC",
        "colab_type": "code",
        "outputId": "afa8037e-b93b-4ffe-db81-d9e2882e32ca",
        "colab": {
          "base_uri": "https://localhost:8080/",
          "height": 346
        }
      },
      "source": [
        "optimizer = Adam(model.parameters(), lr=1e-3)\n",
        "n_epochs = 10\n",
        "#batch_size = 100\n",
        "n_batches = len(y_train)//batch_size\n",
        "\n",
        "for epoch in range(n_epochs):\n",
        "    running_loss = 0\n",
        "    print_every = n_batches // 10\n",
        "    #start_time = time.time()\n",
        "    total_train_loss = 0\n",
        "    for i,data in enumerate(train_loader, 0):\n",
        "        # extract data in this batch\n",
        "        inputs, labels = data\n",
        "\n",
        "        if torch.cuda.is_available():\n",
        "            inputs = inputs.cuda()\n",
        "            labels = labels.cuda()\n",
        "  \n",
        "        #Set the parameter gradients to zero\n",
        "        optimizer.zero_grad()\n",
        "        \n",
        "        #Forward pass, backward pass, optimize\n",
        "        outputs = model(inputs.float())\n",
        "        loss_train = criterion(outputs, labels.long())\n",
        "        loss_train.backward()\n",
        "        optimizer.step()\n",
        "\n",
        "        #Print statistics\n",
        "        running_loss += loss_train\n",
        "        total_train_loss += loss_train\n",
        "        \n",
        "        #Print every 10th batch of an epoch\n",
        "        if (i + 1) % (print_every + 1) == 0:\n",
        "            print(\"Epoch {}, {:d}% \\t train_loss: {:.2f} \".format(\n",
        "                    epoch+1, int(100 * (i+1) / n_batches), running_loss / print_every))\n",
        "            #Reset running loss and time\n",
        "            running_loss = 0.0\n",
        "        \n",
        "    #At the end of the epoch, do a pass on the validation set\n",
        "    output_val = model(X_val.cuda().float())\n",
        "    loss_val = criterion(output_val, y_val.long())\n",
        "\n",
        "    print(\"Validation loss = {:.2f}\".format(loss_val))"
      ],
      "execution_count": 0,
      "outputs": [
        {
          "output_type": "error",
          "ename": "TypeError",
          "evalue": "ignored",
          "traceback": [
            "\u001b[0;31m---------------------------------------------------------------------------\u001b[0m",
            "\u001b[0;31mTypeError\u001b[0m                                 Traceback (most recent call last)",
            "\u001b[0;32m<ipython-input-17-e31fdc424da0>\u001b[0m in \u001b[0;36m<module>\u001b[0;34m()\u001b[0m\n\u001b[1;32m     21\u001b[0m \u001b[0;34m\u001b[0m\u001b[0m\n\u001b[1;32m     22\u001b[0m         \u001b[0;31m#Forward pass, backward pass, optimize\u001b[0m\u001b[0;34m\u001b[0m\u001b[0;34m\u001b[0m\u001b[0;34m\u001b[0m\u001b[0m\n\u001b[0;32m---> 23\u001b[0;31m         \u001b[0moutputs\u001b[0m \u001b[0;34m=\u001b[0m \u001b[0mmodel\u001b[0m\u001b[0;34m(\u001b[0m\u001b[0minputs\u001b[0m\u001b[0;34m.\u001b[0m\u001b[0mfloat\u001b[0m\u001b[0;34m(\u001b[0m\u001b[0;34m)\u001b[0m\u001b[0;34m)\u001b[0m\u001b[0;34m\u001b[0m\u001b[0;34m\u001b[0m\u001b[0m\n\u001b[0m\u001b[1;32m     24\u001b[0m         \u001b[0mloss_train\u001b[0m \u001b[0;34m=\u001b[0m \u001b[0mcriterion\u001b[0m\u001b[0;34m(\u001b[0m\u001b[0moutputs\u001b[0m\u001b[0;34m,\u001b[0m \u001b[0mlabels\u001b[0m\u001b[0;34m.\u001b[0m\u001b[0mlong\u001b[0m\u001b[0;34m(\u001b[0m\u001b[0;34m)\u001b[0m\u001b[0;34m)\u001b[0m\u001b[0;34m\u001b[0m\u001b[0;34m\u001b[0m\u001b[0m\n\u001b[1;32m     25\u001b[0m         \u001b[0mloss_train\u001b[0m\u001b[0;34m.\u001b[0m\u001b[0mbackward\u001b[0m\u001b[0;34m(\u001b[0m\u001b[0;34m)\u001b[0m\u001b[0;34m\u001b[0m\u001b[0;34m\u001b[0m\u001b[0m\n",
            "\u001b[0;32m/usr/local/lib/python3.6/dist-packages/torch/nn/modules/module.py\u001b[0m in \u001b[0;36m__call__\u001b[0;34m(self, *input, **kwargs)\u001b[0m\n\u001b[1;32m    530\u001b[0m             \u001b[0mresult\u001b[0m \u001b[0;34m=\u001b[0m \u001b[0mself\u001b[0m\u001b[0;34m.\u001b[0m\u001b[0m_slow_forward\u001b[0m\u001b[0;34m(\u001b[0m\u001b[0;34m*\u001b[0m\u001b[0minput\u001b[0m\u001b[0;34m,\u001b[0m \u001b[0;34m**\u001b[0m\u001b[0mkwargs\u001b[0m\u001b[0;34m)\u001b[0m\u001b[0;34m\u001b[0m\u001b[0;34m\u001b[0m\u001b[0m\n\u001b[1;32m    531\u001b[0m         \u001b[0;32melse\u001b[0m\u001b[0;34m:\u001b[0m\u001b[0;34m\u001b[0m\u001b[0;34m\u001b[0m\u001b[0m\n\u001b[0;32m--> 532\u001b[0;31m             \u001b[0mresult\u001b[0m \u001b[0;34m=\u001b[0m \u001b[0mself\u001b[0m\u001b[0;34m.\u001b[0m\u001b[0mforward\u001b[0m\u001b[0;34m(\u001b[0m\u001b[0;34m*\u001b[0m\u001b[0minput\u001b[0m\u001b[0;34m,\u001b[0m \u001b[0;34m**\u001b[0m\u001b[0mkwargs\u001b[0m\u001b[0;34m)\u001b[0m\u001b[0;34m\u001b[0m\u001b[0;34m\u001b[0m\u001b[0m\n\u001b[0m\u001b[1;32m    533\u001b[0m         \u001b[0;32mfor\u001b[0m \u001b[0mhook\u001b[0m \u001b[0;32min\u001b[0m \u001b[0mself\u001b[0m\u001b[0;34m.\u001b[0m\u001b[0m_forward_hooks\u001b[0m\u001b[0;34m.\u001b[0m\u001b[0mvalues\u001b[0m\u001b[0;34m(\u001b[0m\u001b[0;34m)\u001b[0m\u001b[0;34m:\u001b[0m\u001b[0;34m\u001b[0m\u001b[0;34m\u001b[0m\u001b[0m\n\u001b[1;32m    534\u001b[0m             \u001b[0mhook_result\u001b[0m \u001b[0;34m=\u001b[0m \u001b[0mhook\u001b[0m\u001b[0;34m(\u001b[0m\u001b[0mself\u001b[0m\u001b[0;34m,\u001b[0m \u001b[0minput\u001b[0m\u001b[0;34m,\u001b[0m \u001b[0mresult\u001b[0m\u001b[0;34m)\u001b[0m\u001b[0;34m\u001b[0m\u001b[0;34m\u001b[0m\u001b[0m\n",
            "\u001b[0;31mTypeError\u001b[0m: forward() missing 1 required positional argument: 'h'"
          ]
        }
      ]
    }
  ]
}
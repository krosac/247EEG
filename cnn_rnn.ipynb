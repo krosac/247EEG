{
  "nbformat": 4,
  "nbformat_minor": 0,
  "metadata": {
    "kernelspec": {
      "name": "python3",
      "display_name": "Python 3"
    },
    "language_info": {
      "codemirror_mode": {
        "name": "ipython",
        "version": 3
      },
      "file_extension": ".py",
      "mimetype": "text/x-python",
      "name": "python",
      "nbconvert_exporter": "python",
      "pygments_lexer": "ipython3",
      "version": "3.6.9"
    },
    "colab": {
      "name": "cnn_rnn.ipynb",
      "provenance": [],
      "collapsed_sections": [],
      "machine_shape": "hm"
    },
    "accelerator": "GPU"
  },
  "cells": [
    {
      "cell_type": "code",
      "metadata": {
        "id": "DiGI0306sEJX",
        "colab_type": "code",
        "outputId": "6bf18dcf-fe8b-4242-9266-98867b3d2f0f",
        "colab": {
          "base_uri": "https://localhost:8080/",
          "height": 34
        }
      },
      "source": [
        "from google.colab import drive\n",
        "drive.mount('/content/drive')"
      ],
      "execution_count": 1,
      "outputs": [
        {
          "output_type": "stream",
          "text": [
            "Drive already mounted at /content/drive; to attempt to forcibly remount, call drive.mount(\"/content/drive\", force_remount=True).\n"
          ],
          "name": "stdout"
        }
      ]
    },
    {
      "cell_type": "code",
      "metadata": {
        "id": "sKSF1YIpsmIu",
        "colab_type": "code",
        "colab": {}
      },
      "source": [
        "import os\n",
        "os.chdir(\"drive/My Drive/Colab Notebooks\")"
      ],
      "execution_count": 0,
      "outputs": []
    },
    {
      "cell_type": "code",
      "metadata": {
        "id": "dwjCfkAvljYG",
        "colab_type": "code",
        "colab": {}
      },
      "source": [
        "import numpy as np\n",
        "import matplotlib.pyplot as plt\n",
        "# for creating validation set\n",
        "from sklearn.model_selection import train_test_split\n",
        "# for evaluating the model\n",
        "from sklearn.metrics import accuracy_score\n",
        "from tqdm import tqdm\n",
        "import random\n",
        "\n",
        "import torch\n",
        "import torch.nn as nn\n",
        "import torch.nn.functional as F\n",
        "from torch.autograd import Variable\n",
        "from torch.utils.data import TensorDataset, DataLoader\n",
        "from torch.nn import Linear, ReLU, CrossEntropyLoss, Sequential, Conv2d, MaxPool2d, Module, Softmax, BatchNorm2d, Dropout, ELU\n",
        "from torch.optim import Adam, SGD"
      ],
      "execution_count": 0,
      "outputs": []
    },
    {
      "cell_type": "code",
      "metadata": {
        "id": "_s3z8cH-p4Do",
        "colab_type": "code",
        "colab": {}
      },
      "source": [
        "# If we have a GPU available, we'll set our device to GPU. We'll use this device variable later in our code.\n",
        "if torch.cuda.is_available():\n",
        "    device = torch.device(\"cuda\")\n",
        "else:\n",
        "    device = torch.device(\"cpu\")"
      ],
      "execution_count": 0,
      "outputs": []
    },
    {
      "cell_type": "code",
      "metadata": {
        "id": "aZaOGTyLjgRl",
        "colab_type": "code",
        "outputId": "081e2af6-5071-452c-8a1d-7aeed154fc94",
        "colab": {
          "base_uri": "https://localhost:8080/",
          "height": 34
        }
      },
      "source": [
        "device"
      ],
      "execution_count": 5,
      "outputs": [
        {
          "output_type": "execute_result",
          "data": {
            "text/plain": [
              "device(type='cuda')"
            ]
          },
          "metadata": {
            "tags": []
          },
          "execution_count": 5
        }
      ]
    },
    {
      "cell_type": "code",
      "metadata": {
        "id": "ZzjOal5dljYM",
        "colab_type": "code",
        "colab": {}
      },
      "source": [
        "X_test = np.load(\"X_test.npy\")\n",
        "y_test = np.load(\"y_test.npy\")\n",
        "person_train_valid = np.load(\"person_train_valid.npy\")\n",
        "X_train_valid = np.load(\"X_train_valid.npy\")\n",
        "y_train_valid = np.load(\"y_train_valid.npy\")\n",
        "person_test = np.load(\"person_test.npy\")"
      ],
      "execution_count": 0,
      "outputs": []
    },
    {
      "cell_type": "code",
      "metadata": {
        "id": "8pNlBDcfljYP",
        "colab_type": "code",
        "outputId": "b93ac455-4ee3-4ef4-bb6c-882af8bb091c",
        "colab": {
          "base_uri": "https://localhost:8080/",
          "height": 118
        }
      },
      "source": [
        "print ('Training/Valid data shape: {}'.format(X_train_valid.shape))\n",
        "print ('Test data shape: {}'.format(X_test.shape))\n",
        "print ('Training/Valid target shape: {}'.format(y_train_valid.shape))\n",
        "print ('Test target shape: {}'.format(y_test.shape))\n",
        "print ('Person train/valid shape: {}'.format(person_train_valid.shape))\n",
        "print ('Person test shape: {}'.format(person_test.shape))"
      ],
      "execution_count": 7,
      "outputs": [
        {
          "output_type": "stream",
          "text": [
            "Training/Valid data shape: (2115, 22, 1000)\n",
            "Test data shape: (443, 22, 1000)\n",
            "Training/Valid target shape: (2115,)\n",
            "Test target shape: (443,)\n",
            "Person train/valid shape: (2115, 1)\n",
            "Person test shape: (443, 1)\n"
          ],
          "name": "stdout"
        }
      ]
    },
    {
      "cell_type": "code",
      "metadata": {
        "id": "f1OTW12fljYT",
        "colab_type": "code",
        "outputId": "ba73f792-c07e-4221-a70a-1228a3ee32b4",
        "colab": {
          "base_uri": "https://localhost:8080/",
          "height": 34
        }
      },
      "source": [
        "# create labels \n",
        "y_train_valid = y_train_valid - 769\n",
        "y_test = y_test -769\n",
        "\n",
        "person_train_valid = person_train_valid.squeeze()\n",
        "\n",
        "\n",
        "# split training and validation\n",
        "X_train, X_val, y_train, y_val, person_train, person_val = train_test_split(X_train_valid, y_train_valid, person_train_valid, test_size = 0.1)\n",
        "data = []\n",
        "(X_train.shape, y_train.shape, person_train.shape), (X_val.shape, y_val.shape, person_val.shape)"
      ],
      "execution_count": 8,
      "outputs": [
        {
          "output_type": "execute_result",
          "data": {
            "text/plain": [
              "(((1903, 22, 1000), (1903,), (1903,)), ((212, 22, 1000), (212,), (212,)))"
            ]
          },
          "metadata": {
            "tags": []
          },
          "execution_count": 8
        }
      ]
    },
    {
      "cell_type": "code",
      "metadata": {
        "id": "TgNpsbBkljYX",
        "colab_type": "code",
        "colab": {}
      },
      "source": [
        "# transform to torch tensor\n",
        "X_train = torch.from_numpy(X_train)\n",
        "y_train = torch.from_numpy(y_train)\n",
        "\n",
        "X_val = torch.from_numpy(X_val)\n",
        "y_val = torch.from_numpy(y_val)\n",
        "\n",
        "X_test = torch.from_numpy(X_test)\n",
        "y_test = torch.from_numpy(y_test)\n"
      ],
      "execution_count": 0,
      "outputs": []
    },
    {
      "cell_type": "code",
      "metadata": {
        "colab_type": "code",
        "id": "pkBYmEyQAAIg",
        "colab": {}
      },
      "source": [
        "# class Net(Module):\n",
        "#     def __init__(self):\n",
        "#         super(Net, self).__init__()\n",
        "\n",
        "#         self.ave = nn.AvgPool1d(kernel_size = 10, stride = 10)\n",
        "#         # 22*100\n",
        "#         self.cnn_layers = Sequential(\n",
        "#             # first conv\n",
        "#             nn.Conv1d(in_channels = 22, out_channels = 32, kernel_size = 3, stride=1),\n",
        "#             #32*98\n",
        "#             nn.BatchNorm1d(32),\n",
        "#             nn.ELU(inplace=True),\n",
        "#             nn.MaxPool1d(kernel_size=4, stride=2),\n",
        "#             #32*48\n",
        "\n",
        "#             # second conv\n",
        "#             nn.Conv1d(in_channels = 32, out_channels = 64, kernel_size = 3, stride=1),\n",
        "#             # 64*46\n",
        "#             nn.BatchNorm1d(64),\n",
        "#             nn.ELU(inplace=True),\n",
        "#             nn.MaxPool1d(kernel_size=4, stride=2),\n",
        "#             # output 64*22\n",
        "\n",
        "#             # third conv\n",
        "#             # nn.Conv1d(in_channels = 64, out_channels = 64, kernel_size = 3, stride=1),\n",
        "#             # # 64*20\n",
        "#             # nn.BatchNorm1d(64),\n",
        "#             # nn.ELU(inplace=True),\n",
        "#             # nn.MaxPool1d(kernel_size=4, stride=2),\n",
        "#             # # 64*9\n",
        "#         )\n",
        "\n",
        "#         self.lstm= nn.LSTM(64, 16, 4, batch_first=True, dropout = 0.1, bidirectional = True)\n",
        "\n",
        "#         # 64\n",
        "#         self.linear_layers = Sequential(\n",
        "#             Linear(22*32,128),\n",
        "#             nn.BatchNorm1d(128),\n",
        "#             ReLU(inplace=True),\n",
        "\n",
        "#             Linear(128,32),\n",
        "#             nn.BatchNorm1d(32),\n",
        "#             ReLU(inplace=True),\n",
        "\n",
        "#             Linear(32, 4)\n",
        "#         )\n",
        "        \n",
        "#     def forward(self, x):\n",
        "#         x = self.ave(x)\n",
        "#         x = self.cnn_layers(x)\n",
        "#         x = x.transpose(1, 2)\n",
        "#         x,_ = self.lstm(x)\n",
        "#         x = x.reshape((-1, 22*32))\n",
        "#         x = self.linear_layers(x)\n",
        "#         return x\n",
        "        "
      ],
      "execution_count": 0,
      "outputs": []
    },
    {
      "cell_type": "code",
      "metadata": {
        "colab_type": "code",
        "id": "Qd5wT3pMPW45",
        "colab": {}
      },
      "source": [
        "# reduce maxpooling layers\n",
        "class Net(Module):\n",
        "    def __init__(self):\n",
        "        super(Net, self).__init__()\n",
        "\n",
        "        self.ave = nn.AvgPool1d(kernel_size = 10, stride = 10)\n",
        "        # 22*100\n",
        "        self.cnn_layers = Sequential(\n",
        "            # first conv\n",
        "            nn.Conv1d(in_channels = 22, out_channels = 32, kernel_size = 3, stride=1),\n",
        "            nn.BatchNorm1d(32),\n",
        "            nn.ELU(inplace=True),\n",
        "\n",
        "            # second conv\n",
        "            nn.Conv1d(in_channels = 32, out_channels = 32, kernel_size = 3, stride=1),\n",
        "            nn.BatchNorm1d(32),\n",
        "            nn.ELU(inplace=True),\n",
        "\n",
        "            # third conv\n",
        "            nn.Conv1d(in_channels = 32, out_channels = 32, kernel_size = 3, stride=1),\n",
        "            nn.BatchNorm1d(32),\n",
        "            nn.ELU(inplace=True),\n",
        "            nn.MaxPool1d(kernel_size=4, stride=2),\n",
        "            # 64*46\n",
        "        )\n",
        "\n",
        "        self.lstm= nn.LSTM(32, 16, 4, batch_first=True, dropout = 0.1, bidirectional = True)\n",
        "\n",
        "        self.linear_layers = Sequential(\n",
        "            Linear(46*32,128),\n",
        "            nn.BatchNorm1d(128),\n",
        "            ReLU(inplace=True),\n",
        "\n",
        "            Linear(128,32),\n",
        "            nn.BatchNorm1d(32),\n",
        "            ReLU(inplace=True),\n",
        "\n",
        "            Linear(32, 4)\n",
        "        )\n",
        "        \n",
        "    def forward(self, x):\n",
        "        x = self.ave(x)\n",
        "        x = self.cnn_layers(x)\n",
        "        x = x.transpose(1, 2)\n",
        "        x,_ = self.lstm(x)\n",
        "        x = x.reshape((-1, 46*32))\n",
        "        x = self.linear_layers(x)\n",
        "        return x\n",
        "        "
      ],
      "execution_count": 0,
      "outputs": []
    },
    {
      "cell_type": "code",
      "metadata": {
        "colab_type": "code",
        "id": "itEL-Vcz2tq6",
        "colab": {}
      },
      "source": [
        "# class Net(Module):\n",
        "#     def __init__(self):\n",
        "#         super(Net, self).__init__()\n",
        "\n",
        "#         self.ave = nn.AvgPool1d(kernel_size = 10, stride = 10)\n",
        "#         # 22*50\n",
        "#         self.fc1 = Linear(22, 10)\n",
        "#         # 50*7\n",
        "#         self.lstm= nn.LSTM(10, 64, 4, batch_first=True, dropout = 0)\n",
        "\n",
        "#         # 64\n",
        "#         self.linear_layers = Sequential(\n",
        "#             Linear(64*100,128),\n",
        "#             nn.BatchNorm1d(128),\n",
        "#             ReLU(inplace=True),\n",
        "\n",
        "#             Linear(128,32),\n",
        "#             nn.BatchNorm1d(32),\n",
        "#             ReLU(inplace=True),\n",
        "\n",
        "#             Linear(32, 4)\n",
        "#         )\n",
        "        \n",
        "#     def forward(self, x):\n",
        "#         x = self.ave(x)\n",
        "#         x = x.transpose(1, 2)\n",
        "#         x = self.fc1(x)\n",
        "#         x,_ = self.lstm(x)\n",
        "#         # x = x[:, -1, :]\n",
        "#         # x = self.linear_layers(x.squeeze())\n",
        "#         x = x.reshape((-1, 64*100))\n",
        "#         x = self.linear_layers(x)\n",
        "#         return x\n",
        "        "
      ],
      "execution_count": 0,
      "outputs": []
    },
    {
      "cell_type": "code",
      "metadata": {
        "id": "XB3yXly1ljYd",
        "colab_type": "code",
        "outputId": "879befbe-c2d7-4c7b-ba54-1a0aded3449e",
        "colab": {
          "base_uri": "https://localhost:8080/",
          "height": 437
        }
      },
      "source": [
        "# defining the model\n",
        "model = Net()\n",
        "model = model.float()\n",
        "\n",
        "# defining the loss function\n",
        "criterion = CrossEntropyLoss()\n",
        "# checking if GPU is available\n",
        "if torch.cuda.is_available():\n",
        "    model = model.cuda()\n",
        "    criterion = criterion.cuda()\n",
        "\n",
        "print(model)"
      ],
      "execution_count": 11,
      "outputs": [
        {
          "output_type": "stream",
          "text": [
            "Net(\n",
            "  (ave): AvgPool1d(kernel_size=(10,), stride=(10,), padding=(0,))\n",
            "  (cnn_layers): Sequential(\n",
            "    (0): Conv1d(22, 32, kernel_size=(3,), stride=(1,))\n",
            "    (1): BatchNorm1d(32, eps=1e-05, momentum=0.1, affine=True, track_running_stats=True)\n",
            "    (2): ELU(alpha=1.0, inplace=True)\n",
            "    (3): Conv1d(32, 32, kernel_size=(3,), stride=(1,))\n",
            "    (4): BatchNorm1d(32, eps=1e-05, momentum=0.1, affine=True, track_running_stats=True)\n",
            "    (5): ELU(alpha=1.0, inplace=True)\n",
            "    (6): Conv1d(32, 32, kernel_size=(3,), stride=(1,))\n",
            "    (7): BatchNorm1d(32, eps=1e-05, momentum=0.1, affine=True, track_running_stats=True)\n",
            "    (8): ELU(alpha=1.0, inplace=True)\n",
            "    (9): MaxPool1d(kernel_size=4, stride=2, padding=0, dilation=1, ceil_mode=False)\n",
            "  )\n",
            "  (lstm): LSTM(32, 16, num_layers=4, batch_first=True, dropout=0.1, bidirectional=True)\n",
            "  (linear_layers): Sequential(\n",
            "    (0): Linear(in_features=1472, out_features=128, bias=True)\n",
            "    (1): BatchNorm1d(128, eps=1e-05, momentum=0.1, affine=True, track_running_stats=True)\n",
            "    (2): ReLU(inplace=True)\n",
            "    (3): Linear(in_features=128, out_features=32, bias=True)\n",
            "    (4): BatchNorm1d(32, eps=1e-05, momentum=0.1, affine=True, track_running_stats=True)\n",
            "    (5): ReLU(inplace=True)\n",
            "    (6): Linear(in_features=32, out_features=4, bias=True)\n",
            "  )\n",
            ")\n"
          ],
          "name": "stdout"
        }
      ]
    },
    {
      "cell_type": "code",
      "metadata": {
        "id": "irMLoZ0inz4j",
        "colab_type": "code",
        "outputId": "7fdd6b88-46ce-4741-da68-002e4c5dc889",
        "colab": {
          "base_uri": "https://localhost:8080/",
          "height": 689
        }
      },
      "source": [
        "model = Net()\n",
        "model = model.float()\n",
        "#torch.manual_seed(2)\n",
        "if torch.cuda.is_available():\n",
        "    model = model.cuda()\n",
        "    criterion = criterion.cuda()\n",
        "##### hyperparameters#########\n",
        "batch_size = 10\n",
        "lrs = [1e-3]\n",
        "weight_decay = 0 # regularization\n",
        "optimizer = Adam(model.parameters(), lr=lrs[0],  weight_decay=weight_decay)\n",
        "n_epochs = 20\n",
        "train_data = TensorDataset(X_train, y_train)\n",
        "train_loader = DataLoader(train_data, shuffle=True, batch_size=batch_size, drop_last=True)\n",
        "train_losses = []\n",
        "val_losses = []\n",
        "train_accs = []\n",
        "val_accs = []\n",
        "\n",
        "for lr in lrs:\n",
        "    optimizer = Adam(model.parameters(), lr=lr,  weight_decay=weight_decay)\n",
        "    for epoch in range(n_epochs):\n",
        "        train_loss = 0\n",
        "\n",
        "        for i,data in enumerate(train_loader, 0):\n",
        "            # extract data in this batch\n",
        "            inputs, labels = data\n",
        "\n",
        "            if torch.cuda.is_available():\n",
        "                inputs = inputs.cuda()\n",
        "                labels = labels.cuda()\n",
        "\n",
        "            #Set the parameter gradients to zero\n",
        "            optimizer.zero_grad()\n",
        "            \n",
        "            #Forward pass, backward pass, optimize\n",
        "            output = model(inputs.float())\n",
        "            loss_train = criterion(output, labels.long())\n",
        "            loss_train.backward()\n",
        "            optimizer.step()\n",
        "\n",
        "            #Print statistics\n",
        "            train_loss += loss_train\n",
        "   \n",
        "        ## training accuracy\n",
        "        with torch.no_grad():\n",
        "            output = model(X_train.cuda().float())\n",
        "            \n",
        "        softmax = torch.exp(output).cpu()\n",
        "        prob = list(softmax.numpy())\n",
        "        predictions = np.argmax(prob, axis=1)\n",
        "        # accuracy on training set\n",
        "        train_acc = accuracy_score(y_train.cpu(), predictions)\n",
        "\n",
        "        # validation loss\n",
        "        with torch.no_grad():\n",
        "            output = model(X_val.cuda().float())\n",
        "        val_loss = criterion(output, y_val.cuda().long())\n",
        "        \n",
        "        softmax = torch.exp(output).cpu()\n",
        "        prob = list(softmax.numpy())\n",
        "        predictions = np.argmax(prob, axis=1)\n",
        "        # accuracy on validation set\n",
        "        val_acc = accuracy_score(y_val.cpu(), predictions)\n",
        "\n",
        "        ## test accuracy\n",
        "        with torch.no_grad():\n",
        "            output = model(X_test.to(device).cuda().float())\n",
        "        softmax = torch.exp(output).cpu()\n",
        "        prob = list(softmax.numpy())\n",
        "        predictions = np.argmax(prob, axis=1)\n",
        "\n",
        "        # accuracy on test set\n",
        "        test_acc = accuracy_score(y_test.cpu(), predictions)\n",
        "\n",
        "        train_losses.append(train_loss)\n",
        "        val_losses.append(val_loss)\n",
        "        train_accs.append(train_acc)\n",
        "        val_accs.append(val_acc)\n",
        "\n",
        "        print(\"Epoch {}, train_loss: {:.2f}, \\t val_loss: {:.2f} \".format(\n",
        "                    epoch+1, train_loss, val_loss))\n",
        "        print(\"training accuracy = {:.2f}, \\t validation accuracy = {:.2f}, \\t test accuracy = {:.2f}\".format(train_acc, val_acc, test_acc))"
      ],
      "execution_count": 12,
      "outputs": [
        {
          "output_type": "stream",
          "text": [
            "Epoch 1, train_loss: 254.71, \t val_loss: 1.28 \n",
            "training accuracy = 0.46, \t validation accuracy = 0.41, \t test accuracy = 0.39\n",
            "Epoch 2, train_loss: 235.26, \t val_loss: 1.21 \n",
            "training accuracy = 0.51, \t validation accuracy = 0.46, \t test accuracy = 0.45\n",
            "Epoch 3, train_loss: 225.41, \t val_loss: 1.20 \n",
            "training accuracy = 0.55, \t validation accuracy = 0.44, \t test accuracy = 0.48\n",
            "Epoch 4, train_loss: 212.28, \t val_loss: 1.12 \n",
            "training accuracy = 0.59, \t validation accuracy = 0.52, \t test accuracy = 0.52\n",
            "Epoch 5, train_loss: 199.52, \t val_loss: 1.09 \n",
            "training accuracy = 0.65, \t validation accuracy = 0.55, \t test accuracy = 0.53\n",
            "Epoch 6, train_loss: 187.63, \t val_loss: 1.03 \n",
            "training accuracy = 0.70, \t validation accuracy = 0.52, \t test accuracy = 0.58\n",
            "Epoch 7, train_loss: 181.46, \t val_loss: 0.98 \n",
            "training accuracy = 0.73, \t validation accuracy = 0.60, \t test accuracy = 0.58\n",
            "Epoch 8, train_loss: 167.77, \t val_loss: 1.01 \n",
            "training accuracy = 0.72, \t validation accuracy = 0.56, \t test accuracy = 0.58\n",
            "Epoch 9, train_loss: 163.50, \t val_loss: 0.98 \n",
            "training accuracy = 0.76, \t validation accuracy = 0.57, \t test accuracy = 0.62\n",
            "Epoch 10, train_loss: 153.49, \t val_loss: 0.96 \n",
            "training accuracy = 0.78, \t validation accuracy = 0.60, \t test accuracy = 0.59\n",
            "Epoch 11, train_loss: 148.45, \t val_loss: 1.02 \n",
            "training accuracy = 0.79, \t validation accuracy = 0.58, \t test accuracy = 0.60\n",
            "Epoch 12, train_loss: 137.02, \t val_loss: 1.01 \n",
            "training accuracy = 0.80, \t validation accuracy = 0.61, \t test accuracy = 0.60\n",
            "Epoch 13, train_loss: 132.86, \t val_loss: 0.96 \n",
            "training accuracy = 0.82, \t validation accuracy = 0.64, \t test accuracy = 0.64\n",
            "Epoch 14, train_loss: 132.55, \t val_loss: 0.93 \n",
            "training accuracy = 0.84, \t validation accuracy = 0.64, \t test accuracy = 0.61\n",
            "Epoch 15, train_loss: 118.72, \t val_loss: 1.00 \n",
            "training accuracy = 0.85, \t validation accuracy = 0.58, \t test accuracy = 0.60\n",
            "Epoch 16, train_loss: 116.48, \t val_loss: 0.93 \n",
            "training accuracy = 0.82, \t validation accuracy = 0.66, \t test accuracy = 0.60\n",
            "Epoch 17, train_loss: 116.37, \t val_loss: 0.87 \n",
            "training accuracy = 0.89, \t validation accuracy = 0.69, \t test accuracy = 0.65\n",
            "Epoch 18, train_loss: 108.75, \t val_loss: 1.03 \n",
            "training accuracy = 0.89, \t validation accuracy = 0.61, \t test accuracy = 0.61\n",
            "Epoch 19, train_loss: 108.18, \t val_loss: 1.00 \n",
            "training accuracy = 0.90, \t validation accuracy = 0.62, \t test accuracy = 0.60\n",
            "Epoch 20, train_loss: 95.98, \t val_loss: 0.95 \n",
            "training accuracy = 0.91, \t validation accuracy = 0.63, \t test accuracy = 0.62\n"
          ],
          "name": "stdout"
        }
      ]
    },
    {
      "cell_type": "code",
      "metadata": {
        "id": "C5P_U43BBNah",
        "colab_type": "code",
        "colab": {
          "base_uri": "https://localhost:8080/",
          "height": 475
        },
        "outputId": "d327d91d-b16a-423d-bc9d-ef68d6ce25bd"
      },
      "source": [
        "plt.figure(figsize=(15, 7))\n",
        "plt.subplot(1, 2, 1)\n",
        "plt.plot(train_accs)\n",
        "plt.plot(val_accs)\n",
        "plt.title('training and validation accuracy')\n",
        "plt.xlabel('epoch')\n",
        "plt.ylabel('accuracy')\n",
        "plt.legend(['train', 'val'])\n",
        "plt.subplot(1, 2, 2)\n",
        "plt.plot(train_losses)\n",
        "plt.plot(val_losses)\n",
        "plt.title('loss history')\n",
        "plt.xlabel('epoch')\n",
        "plt.ylabel('loss')\n",
        "plt.legend(['train', 'val'])"
      ],
      "execution_count": 13,
      "outputs": [
        {
          "output_type": "execute_result",
          "data": {
            "text/plain": [
              "<matplotlib.legend.Legend at 0x7ff504499748>"
            ]
          },
          "metadata": {
            "tags": []
          },
          "execution_count": 13
        },
        {
          "output_type": "display_data",
          "data": {
            "image/png": "[encoded data removed]",
            "text/plain": [
              "<Figure size 1080x504 with 2 Axes>"
            ]
          },
          "metadata": {
            "tags": []
          }
        }
      ]
    }
  ]
}
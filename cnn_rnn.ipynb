{
  "nbformat": 4,
  "nbformat_minor": 0,
  "metadata": {
    "kernelspec": {
      "name": "python3",
      "display_name": "Python 3"
    },
    "language_info": {
      "codemirror_mode": {
        "name": "ipython",
        "version": 3
      },
      "file_extension": ".py",
      "mimetype": "text/x-python",
      "name": "python",
      "nbconvert_exporter": "python",
      "pygments_lexer": "ipython3",
      "version": "3.6.9"
    },
    "colab": {
      "name": "cnn_rnn.ipynb",
      "provenance": [],
      "collapsed_sections": [],
      "machine_shape": "hm"
    },
    "accelerator": "GPU"
  },
  "cells": [
    {
      "cell_type": "code",
      "metadata": {
        "id": "DiGI0306sEJX",
        "colab_type": "code",
        "outputId": "7fad22e5-e011-4037-b5ce-88498f2202b2",
        "colab": {
          "base_uri": "https://localhost:8080/",
          "height": 121
        }
      },
      "source": [
        "from google.colab import drive\n",
        "drive.mount('/content/drive')"
      ],
      "execution_count": 1,
      "outputs": [
        {
          "output_type": "stream",
          "text": [
            "Go to this URL in a browser: https://accounts.google.com/o/oauth2/auth?client_id=947318989803-6bn6qk8qdgf4n4g3pfee6491hc0brc4i.apps.googleusercontent.com&redirect_uri=urn%3aietf%3awg%3aoauth%3a2.0%3aoob&response_type=code&scope=email%20https%3a%2f%2fwww.googleapis.com%2fauth%2fdocs.test%20https%3a%2f%2fwww.googleapis.com%2fauth%2fdrive%20https%3a%2f%2fwww.googleapis.com%2fauth%2fdrive.photos.readonly%20https%3a%2f%2fwww.googleapis.com%2fauth%2fpeopleapi.readonly\n",
            "\n",
            "Enter your authorization code:\n",
            "··········\n",
            "Mounted at /content/drive\n"
          ],
          "name": "stdout"
        }
      ]
    },
    {
      "cell_type": "code",
      "metadata": {
        "id": "sKSF1YIpsmIu",
        "colab_type": "code",
        "colab": {}
      },
      "source": [
        "import os\n",
        "os.chdir(\"drive/My Drive/Colab Notebooks\")"
      ],
      "execution_count": 0,
      "outputs": []
    },
    {
      "cell_type": "code",
      "metadata": {
        "id": "dwjCfkAvljYG",
        "colab_type": "code",
        "colab": {}
      },
      "source": [
        "import numpy as np\n",
        "import matplotlib.pyplot as plt\n",
        "# for creating validation set\n",
        "from sklearn.model_selection import train_test_split\n",
        "# for evaluating the model\n",
        "from sklearn.metrics import accuracy_score\n",
        "from tqdm import tqdm\n",
        "import random\n",
        "\n",
        "import torch\n",
        "import torch.nn as nn\n",
        "import torch.nn.functional as F\n",
        "from torch.autograd import Variable\n",
        "from torch.utils.data import TensorDataset, DataLoader\n",
        "from torch.nn import Linear, ReLU, CrossEntropyLoss, Sequential, Conv2d, MaxPool2d, Module, Softmax, BatchNorm2d, Dropout, ELU\n",
        "from torch.optim import Adam, SGD"
      ],
      "execution_count": 0,
      "outputs": []
    },
    {
      "cell_type": "code",
      "metadata": {
        "id": "_s3z8cH-p4Do",
        "colab_type": "code",
        "colab": {}
      },
      "source": [
        "# If we have a GPU available, we'll set our device to GPU. We'll use this device variable later in our code.\n",
        "if torch.cuda.is_available():\n",
        "    device = torch.device(\"cuda\")\n",
        "else:\n",
        "    device = torch.device(\"cpu\")"
      ],
      "execution_count": 0,
      "outputs": []
    },
    {
      "cell_type": "code",
      "metadata": {
        "id": "aZaOGTyLjgRl",
        "colab_type": "code",
        "outputId": "50bc316b-e82e-4bf5-cb2f-7763b8cc0a87",
        "colab": {
          "base_uri": "https://localhost:8080/",
          "height": 34
        }
      },
      "source": [
        "device"
      ],
      "execution_count": 5,
      "outputs": [
        {
          "output_type": "execute_result",
          "data": {
            "text/plain": [
              "device(type='cuda')"
            ]
          },
          "metadata": {
            "tags": []
          },
          "execution_count": 5
        }
      ]
    },
    {
      "cell_type": "code",
      "metadata": {
        "id": "ZzjOal5dljYM",
        "colab_type": "code",
        "colab": {}
      },
      "source": [
        "X_test = np.load(\"X_test.npy\")\n",
        "y_test = np.load(\"y_test.npy\")\n",
        "person_train_valid = np.load(\"person_train_valid.npy\")\n",
        "X_train_valid = np.load(\"X_train_valid.npy\")\n",
        "y_train_valid = np.load(\"y_train_valid.npy\")\n",
        "person_test = np.load(\"person_test.npy\")"
      ],
      "execution_count": 0,
      "outputs": []
    },
    {
      "cell_type": "code",
      "metadata": {
        "id": "8pNlBDcfljYP",
        "colab_type": "code",
        "outputId": "9343bcab-6a86-4a07-818b-920c19eccf34",
        "colab": {
          "base_uri": "https://localhost:8080/",
          "height": 118
        }
      },
      "source": [
        "print ('Training/Valid data shape: {}'.format(X_train_valid.shape))\n",
        "print ('Test data shape: {}'.format(X_test.shape))\n",
        "print ('Training/Valid target shape: {}'.format(y_train_valid.shape))\n",
        "print ('Test target shape: {}'.format(y_test.shape))\n",
        "print ('Person train/valid shape: {}'.format(person_train_valid.shape))\n",
        "print ('Person test shape: {}'.format(person_test.shape))"
      ],
      "execution_count": 7,
      "outputs": [
        {
          "output_type": "stream",
          "text": [
            "Training/Valid data shape: (2115, 22, 1000)\n",
            "Test data shape: (443, 22, 1000)\n",
            "Training/Valid target shape: (2115,)\n",
            "Test target shape: (443,)\n",
            "Person train/valid shape: (2115, 1)\n",
            "Person test shape: (443, 1)\n"
          ],
          "name": "stdout"
        }
      ]
    },
    {
      "cell_type": "code",
      "metadata": {
        "id": "f1OTW12fljYT",
        "colab_type": "code",
        "outputId": "05c4ec7b-d255-497e-f0ca-de6e5dae2567",
        "colab": {
          "base_uri": "https://localhost:8080/",
          "height": 34
        }
      },
      "source": [
        "# create labels \n",
        "y_train_valid = y_train_valid - 769\n",
        "y_test = y_test -769\n",
        "\n",
        "person_train_valid = person_train_valid.squeeze()\n",
        "\n",
        "\n",
        "# split training and validation\n",
        "X_train, X_val, y_train, y_val, person_train, person_val = train_test_split(X_train_valid, y_train_valid, person_train_valid, test_size = 0.1)\n",
        "data = []\n",
        "(X_train.shape, y_train.shape, person_train.shape), (X_val.shape, y_val.shape, person_val.shape)"
      ],
      "execution_count": 8,
      "outputs": [
        {
          "output_type": "execute_result",
          "data": {
            "text/plain": [
              "(((1903, 22, 1000), (1903,), (1903,)), ((212, 22, 1000), (212,), (212,)))"
            ]
          },
          "metadata": {
            "tags": []
          },
          "execution_count": 8
        }
      ]
    },
    {
      "cell_type": "code",
      "metadata": {
        "id": "TgNpsbBkljYX",
        "colab_type": "code",
        "colab": {}
      },
      "source": [
        "# transform to torch tensor\n",
        "X_train = torch.from_numpy(X_train)\n",
        "y_train = torch.from_numpy(y_train)\n",
        "\n",
        "X_val = torch.from_numpy(X_val)\n",
        "y_val = torch.from_numpy(y_val)\n",
        "\n",
        "X_test = torch.from_numpy(X_test)\n",
        "y_test = torch.from_numpy(y_test)\n"
      ],
      "execution_count": 0,
      "outputs": []
    },
    {
      "cell_type": "code",
      "metadata": {
        "colab_type": "code",
        "id": "pkBYmEyQAAIg",
        "colab": {}
      },
      "source": [
        "# class Net(Module):\n",
        "#     def __init__(self):\n",
        "#         super(Net, self).__init__()\n",
        "\n",
        "#         self.ave = nn.AvgPool1d(kernel_size = 10, stride = 10)\n",
        "#         # 22*100\n",
        "#         self.cnn_layers = Sequential(\n",
        "#             # first conv\n",
        "#             nn.Conv1d(in_channels = 22, out_channels = 32, kernel_size = 3, stride=1),\n",
        "#             #32*98\n",
        "#             nn.BatchNorm1d(32),\n",
        "#             nn.ELU(inplace=True),\n",
        "#             nn.MaxPool1d(kernel_size=4, stride=2),\n",
        "#             #32*48\n",
        "\n",
        "#             # second conv\n",
        "#             nn.Conv1d(in_channels = 32, out_channels = 64, kernel_size = 3, stride=1),\n",
        "#             # 64*46\n",
        "#             nn.BatchNorm1d(64),\n",
        "#             nn.ELU(inplace=True),\n",
        "#             nn.MaxPool1d(kernel_size=4, stride=2),\n",
        "#             # output 64*22\n",
        "\n",
        "#             # third conv\n",
        "#             # nn.Conv1d(in_channels = 64, out_channels = 64, kernel_size = 3, stride=1),\n",
        "#             # # 64*20\n",
        "#             # nn.BatchNorm1d(64),\n",
        "#             # nn.ELU(inplace=True),\n",
        "#             # nn.MaxPool1d(kernel_size=4, stride=2),\n",
        "#             # # 64*9\n",
        "#         )\n",
        "\n",
        "#         self.lstm= nn.LSTM(64, 16, 4, batch_first=True, dropout = 0.1, bidirectional = True)\n",
        "\n",
        "#         # 64\n",
        "#         self.linear_layers = Sequential(\n",
        "#             Linear(22*32,128),\n",
        "#             nn.BatchNorm1d(128),\n",
        "#             ReLU(inplace=True),\n",
        "\n",
        "#             Linear(128,32),\n",
        "#             nn.BatchNorm1d(32),\n",
        "#             ReLU(inplace=True),\n",
        "\n",
        "#             Linear(32, 4)\n",
        "#         )\n",
        "        \n",
        "#     def forward(self, x):\n",
        "#         x = self.ave(x)\n",
        "#         x = self.cnn_layers(x)\n",
        "#         x = x.transpose(1, 2)\n",
        "#         x,_ = self.lstm(x)\n",
        "#         x = x.reshape((-1, 22*32))\n",
        "#         x = self.linear_layers(x)\n",
        "#         return x\n",
        "        "
      ],
      "execution_count": 0,
      "outputs": []
    },
    {
      "cell_type": "code",
      "metadata": {
        "colab_type": "code",
        "id": "Qd5wT3pMPW45",
        "colab": {}
      },
      "source": [
        "# reduce maxpooling layers\n",
        "class Net(Module):\n",
        "    def __init__(self):\n",
        "        super(Net, self).__init__()\n",
        "\n",
        "        self.ave = nn.AvgPool1d(kernel_size = 10, stride = 10)\n",
        "        # 22*100\n",
        "        self.cnn_layers = Sequential(\n",
        "            # first conv\n",
        "            nn.Conv1d(in_channels = 22, out_channels = 32, kernel_size = 3, stride=1),\n",
        "            nn.BatchNorm1d(32),\n",
        "            nn.ELU(inplace=True),\n",
        "\n",
        "            # second conv\n",
        "            nn.Conv1d(in_channels = 32, out_channels = 32, kernel_size = 3, stride=1),\n",
        "            nn.BatchNorm1d(32),\n",
        "            nn.ELU(inplace=True),\n",
        "\n",
        "            # third conv\n",
        "            nn.Conv1d(in_channels = 32, out_channels = 32, kernel_size = 3, stride=1),\n",
        "            nn.BatchNorm1d(32),\n",
        "            nn.ELU(inplace=True),\n",
        "            nn.MaxPool1d(kernel_size=4, stride=2),\n",
        "            # 64*46\n",
        "        )\n",
        "\n",
        "        self.lstm= nn.LSTM(32, 16, 4, batch_first=True, dropout = 0.1, bidirectional = True)\n",
        "\n",
        "        self.linear_layers = Sequential(\n",
        "            Linear(46*32,128),\n",
        "            nn.BatchNorm1d(128),\n",
        "            ReLU(inplace=True),\n",
        "\n",
        "            Linear(128,32),\n",
        "            nn.BatchNorm1d(32),\n",
        "            ReLU(inplace=True),\n",
        "\n",
        "            Linear(32, 4)\n",
        "        )\n",
        "        \n",
        "    def forward(self, x):\n",
        "        x = self.ave(x)\n",
        "        x = self.cnn_layers(x)\n",
        "        x = x.transpose(1, 2)\n",
        "        x,_ = self.lstm(x)\n",
        "        x = x.reshape((-1, 46*32))\n",
        "        x = self.linear_layers(x)\n",
        "        return x\n",
        "        "
      ],
      "execution_count": 0,
      "outputs": []
    },
    {
      "cell_type": "code",
      "metadata": {
        "colab_type": "code",
        "id": "itEL-Vcz2tq6",
        "colab": {}
      },
      "source": [
        "# class Net(Module):\n",
        "#     def __init__(self):\n",
        "#         super(Net, self).__init__()\n",
        "\n",
        "#         self.ave = nn.AvgPool1d(kernel_size = 10, stride = 10)\n",
        "#         # 22*50\n",
        "#         self.fc1 = Linear(22, 10)\n",
        "#         # 50*7\n",
        "#         self.lstm= nn.LSTM(10, 64, 4, batch_first=True, dropout = 0)\n",
        "\n",
        "#         # 64\n",
        "#         self.linear_layers = Sequential(\n",
        "#             Linear(64*100,128),\n",
        "#             nn.BatchNorm1d(128),\n",
        "#             ReLU(inplace=True),\n",
        "\n",
        "#             Linear(128,32),\n",
        "#             nn.BatchNorm1d(32),\n",
        "#             ReLU(inplace=True),\n",
        "\n",
        "#             Linear(32, 4)\n",
        "#         )\n",
        "        \n",
        "#     def forward(self, x):\n",
        "#         x = self.ave(x)\n",
        "#         x = x.transpose(1, 2)\n",
        "#         x = self.fc1(x)\n",
        "#         x,_ = self.lstm(x)\n",
        "#         # x = x[:, -1, :]\n",
        "#         # x = self.linear_layers(x.squeeze())\n",
        "#         x = x.reshape((-1, 64*100))\n",
        "#         x = self.linear_layers(x)\n",
        "#         return x\n",
        "        "
      ],
      "execution_count": 0,
      "outputs": []
    },
    {
      "cell_type": "code",
      "metadata": {
        "id": "XB3yXly1ljYd",
        "colab_type": "code",
        "outputId": "c14fd154-94c9-4914-e8e5-94004191ee99",
        "colab": {
          "base_uri": "https://localhost:8080/",
          "height": 437
        }
      },
      "source": [
        "# defining the model\n",
        "model = Net()\n",
        "model = model.float()\n",
        "\n",
        "# defining the loss function\n",
        "criterion = CrossEntropyLoss()\n",
        "# checking if GPU is available\n",
        "if torch.cuda.is_available():\n",
        "    model = model.cuda()\n",
        "    criterion = criterion.cuda()\n",
        "\n",
        "print(model)"
      ],
      "execution_count": 26,
      "outputs": [
        {
          "output_type": "stream",
          "text": [
            "Net(\n",
            "  (ave): AvgPool1d(kernel_size=(10,), stride=(10,), padding=(0,))\n",
            "  (cnn_layers): Sequential(\n",
            "    (0): Conv1d(22, 32, kernel_size=(3,), stride=(1,))\n",
            "    (1): BatchNorm1d(32, eps=1e-05, momentum=0.1, affine=True, track_running_stats=True)\n",
            "    (2): ELU(alpha=1.0, inplace=True)\n",
            "    (3): Conv1d(32, 32, kernel_size=(3,), stride=(1,))\n",
            "    (4): BatchNorm1d(32, eps=1e-05, momentum=0.1, affine=True, track_running_stats=True)\n",
            "    (5): ELU(alpha=1.0, inplace=True)\n",
            "    (6): Conv1d(32, 32, kernel_size=(3,), stride=(1,))\n",
            "    (7): BatchNorm1d(32, eps=1e-05, momentum=0.1, affine=True, track_running_stats=True)\n",
            "    (8): ELU(alpha=1.0, inplace=True)\n",
            "    (9): MaxPool1d(kernel_size=4, stride=2, padding=0, dilation=1, ceil_mode=False)\n",
            "  )\n",
            "  (lstm): LSTM(32, 16, num_layers=4, batch_first=True, dropout=0.1, bidirectional=True)\n",
            "  (linear_layers): Sequential(\n",
            "    (0): Linear(in_features=1472, out_features=128, bias=True)\n",
            "    (1): BatchNorm1d(128, eps=1e-05, momentum=0.1, affine=True, track_running_stats=True)\n",
            "    (2): ReLU(inplace=True)\n",
            "    (3): Linear(in_features=128, out_features=32, bias=True)\n",
            "    (4): BatchNorm1d(32, eps=1e-05, momentum=0.1, affine=True, track_running_stats=True)\n",
            "    (5): ReLU(inplace=True)\n",
            "    (6): Linear(in_features=32, out_features=4, bias=True)\n",
            "  )\n",
            ")\n"
          ],
          "name": "stdout"
        }
      ]
    },
    {
      "cell_type": "code",
      "metadata": {
        "id": "irMLoZ0inz4j",
        "colab_type": "code",
        "outputId": "dcfa27ec-f611-4dfb-9c89-4fe45eb2eaea",
        "colab": {
          "base_uri": "https://localhost:8080/",
          "height": 689
        }
      },
      "source": [
        "model = Net()\n",
        "model = model.float()\n",
        "if torch.cuda.is_available():\n",
        "    model = model.cuda()\n",
        "    criterion = criterion.cuda()\n",
        "##### hyperparameters#########\n",
        "batch_size = 10\n",
        "lrs = [1e-3]\n",
        "weight_decay = 0 # regularization\n",
        "optimizer = Adam(model.parameters(), lr=lrs[0],  weight_decay=weight_decay)\n",
        "n_epochs = 20\n",
        "train_losses = []\n",
        "val_losses = []\n",
        "train_data = TensorDataset(X_train, y_train)\n",
        "train_loader = DataLoader(train_data, shuffle=True, batch_size=batch_size, drop_last=True)\n",
        "\n",
        "for lr in lrs:\n",
        "    optimizer = Adam(model.parameters(), lr=lr,  weight_decay=weight_decay)\n",
        "    for epoch in range(n_epochs):\n",
        "        train_loss = 0\n",
        "\n",
        "        for i,data in enumerate(train_loader, 0):\n",
        "            # extract data in this batch\n",
        "            inputs, labels = data\n",
        "\n",
        "            if torch.cuda.is_available():\n",
        "                inputs = inputs.cuda()\n",
        "                labels = labels.cuda()\n",
        "\n",
        "            #Set the parameter gradients to zero\n",
        "            optimizer.zero_grad()\n",
        "            \n",
        "            #Forward pass, backward pass, optimize\n",
        "            output = model(inputs.float())\n",
        "            loss_train = criterion(output, labels.long())\n",
        "            loss_train.backward()\n",
        "            optimizer.step()\n",
        "\n",
        "            #Print statistics\n",
        "            train_loss += loss_train\n",
        "\n",
        "        train_losses.append(train_loss)   \n",
        "        ## training accuracy\n",
        "        with torch.no_grad():\n",
        "            output = model(X_train.cuda().float())\n",
        "            \n",
        "        softmax = torch.exp(output).cpu()\n",
        "        prob = list(softmax.numpy())\n",
        "        predictions = np.argmax(prob, axis=1)\n",
        "        # accuracy on training set\n",
        "        train_acc = accuracy_score(y_train.cpu(), predictions)\n",
        "\n",
        "        # validation loss\n",
        "        with torch.no_grad():\n",
        "            output = model(X_val.cuda().float())\n",
        "        val_loss = criterion(output, y_val.cuda().long())\n",
        "        val_losses.append(val_loss)\n",
        "        softmax = torch.exp(output).cpu()\n",
        "        prob = list(softmax.numpy())\n",
        "        predictions = np.argmax(prob, axis=1)\n",
        "        # accuracy on validation set\n",
        "        val_acc = accuracy_score(y_val.cpu(), predictions)\n",
        "\n",
        "        ## test accuracy\n",
        "        with torch.no_grad():\n",
        "            output = model(X_test.to(device).cuda().float())\n",
        "        softmax = torch.exp(output).cpu()\n",
        "        prob = list(softmax.numpy())\n",
        "        predictions = np.argmax(prob, axis=1)\n",
        "\n",
        "        # accuracy on test set\n",
        "        test_acc = accuracy_score(y_test.cpu(), predictions)\n",
        "\n",
        "        print(\"Epoch {}, train_loss: {:.2f}, \\t val_loss: {:.2f} \".format(\n",
        "                    epoch+1, train_loss, val_loss))\n",
        "        print(\"training accuracy = {:.2f}, \\t validation accuracy = {:.2f}, \\t test accuracy = {:.2f}\".format(train_acc, val_acc, test_acc))"
      ],
      "execution_count": 31,
      "outputs": [
        {
          "output_type": "stream",
          "text": [
            "Epoch 1, train_loss: 250.16, \t val_loss: 1.25 \n",
            "training accuracy = 0.49, \t validation accuracy = 0.43, \t test accuracy = 0.43\n",
            "Epoch 2, train_loss: 225.78, \t val_loss: 1.15 \n",
            "training accuracy = 0.59, \t validation accuracy = 0.50, \t test accuracy = 0.51\n",
            "Epoch 3, train_loss: 209.76, \t val_loss: 1.08 \n",
            "training accuracy = 0.62, \t validation accuracy = 0.54, \t test accuracy = 0.54\n",
            "Epoch 4, train_loss: 196.94, \t val_loss: 1.13 \n",
            "training accuracy = 0.64, \t validation accuracy = 0.53, \t test accuracy = 0.55\n",
            "Epoch 5, train_loss: 186.23, \t val_loss: 1.04 \n",
            "training accuracy = 0.67, \t validation accuracy = 0.60, \t test accuracy = 0.58\n",
            "Epoch 6, train_loss: 177.22, \t val_loss: 1.04 \n",
            "training accuracy = 0.71, \t validation accuracy = 0.58, \t test accuracy = 0.59\n",
            "Epoch 7, train_loss: 168.71, \t val_loss: 1.07 \n",
            "training accuracy = 0.71, \t validation accuracy = 0.56, \t test accuracy = 0.56\n",
            "Epoch 8, train_loss: 161.57, \t val_loss: 0.95 \n",
            "training accuracy = 0.75, \t validation accuracy = 0.59, \t test accuracy = 0.60\n",
            "Epoch 9, train_loss: 155.29, \t val_loss: 0.93 \n",
            "training accuracy = 0.79, \t validation accuracy = 0.66, \t test accuracy = 0.62\n",
            "Epoch 10, train_loss: 145.18, \t val_loss: 0.88 \n",
            "training accuracy = 0.78, \t validation accuracy = 0.70, \t test accuracy = 0.62\n",
            "Epoch 11, train_loss: 141.12, \t val_loss: 0.93 \n",
            "training accuracy = 0.81, \t validation accuracy = 0.64, \t test accuracy = 0.64\n",
            "Epoch 12, train_loss: 137.99, \t val_loss: 0.89 \n",
            "training accuracy = 0.81, \t validation accuracy = 0.65, \t test accuracy = 0.63\n",
            "Epoch 13, train_loss: 134.52, \t val_loss: 0.94 \n",
            "training accuracy = 0.82, \t validation accuracy = 0.64, \t test accuracy = 0.63\n",
            "Epoch 14, train_loss: 130.03, \t val_loss: 0.89 \n",
            "training accuracy = 0.83, \t validation accuracy = 0.67, \t test accuracy = 0.60\n",
            "Epoch 15, train_loss: 122.93, \t val_loss: 0.93 \n",
            "training accuracy = 0.86, \t validation accuracy = 0.67, \t test accuracy = 0.62\n",
            "Epoch 16, train_loss: 125.07, \t val_loss: 0.99 \n",
            "training accuracy = 0.85, \t validation accuracy = 0.65, \t test accuracy = 0.65\n",
            "Epoch 17, train_loss: 115.67, \t val_loss: 0.93 \n",
            "training accuracy = 0.88, \t validation accuracy = 0.63, \t test accuracy = 0.62\n",
            "Epoch 18, train_loss: 109.15, \t val_loss: 0.95 \n",
            "training accuracy = 0.88, \t validation accuracy = 0.70, \t test accuracy = 0.59\n",
            "Epoch 19, train_loss: 105.09, \t val_loss: 0.99 \n",
            "training accuracy = 0.89, \t validation accuracy = 0.66, \t test accuracy = 0.62\n",
            "Epoch 20, train_loss: 98.76, \t val_loss: 1.00 \n",
            "training accuracy = 0.89, \t validation accuracy = 0.66, \t test accuracy = 0.65\n"
          ],
          "name": "stdout"
        }
      ]
    },
    {
      "cell_type": "code",
      "metadata": {
        "id": "C5P_U43BBNah",
        "colab_type": "code",
        "colab": {}
      },
      "source": [
        ""
      ],
      "execution_count": 0,
      "outputs": []
    }
  ]
}